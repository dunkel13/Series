{
 "cells": [
  {
   "cell_type": "markdown",
   "metadata": {},
   "source": [
    "# Ajuste Serie datos AirPassengers por medio del modelo ARIMA estacional, así como su correspondiente análisis de residuales y pronósticos"
   ]
  },
  {
   "cell_type": "code",
   "execution_count": 2,
   "metadata": {},
   "outputs": [
    {
     "data": {
      "image/png": "[encoded data removed]",
      "text/plain": [
       "plot without title"
      ]
     },
     "metadata": {},
     "output_type": "display_data"
    }
   ],
   "source": [
    "data(AirPassengers)\n",
    "options(repr.plot.width=4, repr.plot.height=3)\n",
    "plot(AirPassengers)"
   ]
  },
  {
   "cell_type": "markdown",
   "metadata": {},
   "source": [
    "Después de haber aplicado la diferencia ordinaria y estacional procedemos a tratar de identificar la estructura de autocorrelación a corto plazo(*ARMA*) y estacional *SARMA*. Para eso, es necesario haber convertido la serie a estacionaria"
   ]
  },
  {
   "cell_type": "code",
   "execution_count": 3,
   "metadata": {},
   "outputs": [],
   "source": [
    "lAirpassengers=log(AirPassengers)"
   ]
  },
  {
   "cell_type": "markdown",
   "metadata": {},
   "source": [
    "# Prueba de Dickey Fuller"
   ]
  },
  {
   "cell_type": "markdown",
   "metadata": {},
   "source": [
    "$H_0:$ *hay presencia de raíz unitaria* vs\n",
    "$H_1:$ *no hay presencia de raíz unitaria*"
   ]
  },
  {
   "cell_type": "code",
   "execution_count": 4,
   "metadata": {},
   "outputs": [
    {
     "data": {
      "text/plain": [
       "\n",
       "\tAugmented Dickey-Fuller Test\n",
       "\n",
       "data:  lAirpassengers\n",
       "Dickey-Fuller = -1.3232, Lag order = 10, p-value = 0.8582\n",
       "alternative hypothesis: stationary\n"
      ]
     },
     "metadata": {},
     "output_type": "display_data"
    }
   ],
   "source": [
    "options(warn=-1) #suppress warnings globally in an R Script\n",
    "library(tseries)\n",
    "tseries::adf.test(lAirpassengers,k=10)"
   ]
  },
  {
   "cell_type": "markdown",
   "metadata": {},
   "source": [
    "Observaciones: \n",
    "* La prueba de la librería *tseries* es sensible al valor de **k** (rezago)\n",
    "* La serie debe estar estabilizada en varianza"
   ]
  },
  {
   "cell_type": "code",
   "execution_count": 5,
   "metadata": {},
   "outputs": [
    {
     "data": {
      "text/plain": [
       "\n",
       "\tAugmented Dickey-Fuller Test\n",
       "\n",
       "data:  lAirpassengers\n",
       "Dickey-Fuller = -6.4215, Lag order = 5, p-value = 0.01\n",
       "alternative hypothesis: stationary\n"
      ]
     },
     "metadata": {},
     "output_type": "display_data"
    },
    {
     "data": {
      "text/plain": [
       "\n",
       "\tAugmented Dickey-Fuller Test\n",
       "\n",
       "data:  lAirpassengers\n",
       "Dickey-Fuller = -2.9762, Lag order = 9, p-value = 0.17\n",
       "alternative hypothesis: stationary\n"
      ]
     },
     "metadata": {},
     "output_type": "display_data"
    },
    {
     "data": {
      "text/plain": [
       "\n",
       "\tAugmented Dickey-Fuller Test\n",
       "\n",
       "data:  lAirpassengers\n",
       "Dickey-Fuller = -1.5325, Lag order = 12, p-value = 0.7711\n",
       "alternative hypothesis: stationary\n"
      ]
     },
     "metadata": {},
     "output_type": "display_data"
    }
   ],
   "source": [
    "tseries::adf.test(lAirpassengers,k=5)\n",
    "tseries::adf.test(lAirpassengers,k=9) # a partir del rezago 9 empiezo a no rechazar H0\n",
    "tseries::adf.test(lAirpassengers,k=12)"
   ]
  },
  {
   "cell_type": "markdown",
   "metadata": {},
   "source": [
    "## fUnitRoots"
   ]
  },
  {
   "cell_type": "code",
   "execution_count": 6,
   "metadata": {},
   "outputs": [
    {
     "name": "stderr",
     "output_type": "stream",
     "text": [
      "Loading required package: timeDate\n",
      "Loading required package: timeSeries\n",
      "Loading required package: fBasics\n"
     ]
    },
    {
     "data": {
      "text/plain": [
       "\n",
       "Title:\n",
       " Augmented Dickey-Fuller Test\n",
       "\n",
       "Test Results:\n",
       "  PARAMETER:\n",
       "    Lag Order: 12\n",
       "  STATISTIC:\n",
       "    Dickey-Fuller: 3.7872\n",
       "  P VALUE:\n",
       "    0.99 \n",
       "\n",
       "Description:\n",
       " Tue Jun 25 19:54:17 2019 by user: FM\n"
      ]
     },
     "metadata": {},
     "output_type": "display_data"
    },
    {
     "data": {
      "text/plain": [
       "\n",
       "Title:\n",
       " Augmented Dickey-Fuller Test\n",
       "\n",
       "Test Results:\n",
       "  PARAMETER:\n",
       "    Lag Order: 5\n",
       "  STATISTIC:\n",
       "    Dickey-Fuller: 1.3817\n",
       "  P VALUE:\n",
       "    0.9566 \n",
       "\n",
       "Description:\n",
       " Tue Jun 25 19:54:17 2019 by user: FM\n"
      ]
     },
     "metadata": {},
     "output_type": "display_data"
    },
    {
     "data": {
      "text/plain": [
       "\n",
       "Title:\n",
       " Augmented Dickey-Fuller Test\n",
       "\n",
       "Test Results:\n",
       "  PARAMETER:\n",
       "    Lag Order: 1\n",
       "  STATISTIC:\n",
       "    Dickey-Fuller: 0.674\n",
       "  P VALUE:\n",
       "    0.8289 \n",
       "\n",
       "Description:\n",
       " Tue Jun 25 19:54:17 2019 by user: FM\n"
      ]
     },
     "metadata": {},
     "output_type": "display_data"
    }
   ],
   "source": [
    "library(fUnitRoots)\n",
    "adfTest(lAirpassengers,lags = 12,type='nc')   ###Hay la presencia de Raíz Unitaria\n",
    "adfTest(lAirpassengers,lags = 5,type='nc')   \n",
    "adfTest(lAirpassengers,lags = 1,type='nc')   "
   ]
  },
  {
   "cell_type": "markdown",
   "metadata": {},
   "source": [
    "Observaciones: \n",
    "* La prueba de la librería **fUnitRoots** es sensible al valor 'ct' del argumento de *type*\n",
    "    + si *type='ct'* indica que $\\phi(B) X_t = c + bt + \\theta(B)+Z_t$ (tipo de tendencia como cuadrática)\n",
    "    + si *type='c'* inidica que $\\phi(B) X_t = c+ \\theta(B)+Z_t$ (tipo de tendencia lineal constante)"
   ]
  },
  {
   "cell_type": "code",
   "execution_count": 7,
   "metadata": {},
   "outputs": [
    {
     "data": {
      "text/plain": [
       "\n",
       "Title:\n",
       " Augmented Dickey-Fuller Test\n",
       "\n",
       "Test Results:\n",
       "  PARAMETER:\n",
       "    Lag Order: 12\n",
       "  STATISTIC:\n",
       "    Dickey-Fuller: -1.5325\n",
       "  P VALUE:\n",
       "    0.7711 \n",
       "\n",
       "Description:\n",
       " Tue Jun 25 19:54:22 2019 by user: FM\n"
      ]
     },
     "metadata": {},
     "output_type": "display_data"
    },
    {
     "data": {
      "text/plain": [
       "\n",
       "Title:\n",
       " Augmented Dickey-Fuller Test\n",
       "\n",
       "Test Results:\n",
       "  PARAMETER:\n",
       "    Lag Order: 9\n",
       "  STATISTIC:\n",
       "    Dickey-Fuller: -2.9762\n",
       "  P VALUE:\n",
       "    0.17 \n",
       "\n",
       "Description:\n",
       " Tue Jun 25 19:54:22 2019 by user: FM\n"
      ]
     },
     "metadata": {},
     "output_type": "display_data"
    },
    {
     "data": {
      "text/plain": [
       "\n",
       "Title:\n",
       " Augmented Dickey-Fuller Test\n",
       "\n",
       "Test Results:\n",
       "  PARAMETER:\n",
       "    Lag Order: 5\n",
       "  STATISTIC:\n",
       "    Dickey-Fuller: -6.4215\n",
       "  P VALUE:\n",
       "    0.01 \n",
       "\n",
       "Description:\n",
       " Tue Jun 25 19:54:22 2019 by user: FM\n"
      ]
     },
     "metadata": {},
     "output_type": "display_data"
    }
   ],
   "source": [
    "adfTest(lAirpassengers,lags = 12,type='ct') ### Puede también indicar la presencia de una tendencia determinística\n",
    "adfTest(lAirpassengers,lags = 9,type='ct')   \n",
    "adfTest(lAirpassengers,lags = 5,type='ct')"
   ]
  },
  {
   "cell_type": "markdown",
   "metadata": {},
   "source": [
    "## Urca"
   ]
  },
  {
   "cell_type": "code",
   "execution_count": 8,
   "metadata": {},
   "outputs": [
    {
     "name": "stderr",
     "output_type": "stream",
     "text": [
      "\n",
      "Attaching package: 'urca'\n",
      "\n",
      "The following objects are masked from 'package:fUnitRoots':\n",
      "\n",
      "    punitroot, qunitroot, unitrootTable\n",
      "\n"
     ]
    },
    {
     "data": {
      "text/plain": [
       "\n",
       "############################################### \n",
       "# Augmented Dickey-Fuller Test Unit Root Test # \n",
       "############################################### \n",
       "\n",
       "Test regression none \n",
       "\n",
       "\n",
       "Call:\n",
       "lm(formula = z.diff ~ z.lag.1 - 1 + z.diff.lag)\n",
       "\n",
       "Residuals:\n",
       "      Min        1Q    Median        3Q       Max \n",
       "-0.103864 -0.023652 -0.001455  0.022160  0.126649 \n",
       "\n",
       "Coefficients:\n",
       "              Estimate Std. Error t value Pr(>|t|)    \n",
       "z.lag.1       0.005439   0.001436   3.787 0.000241 ***\n",
       "z.diff.lag1  -0.198813   0.072080  -2.758 0.006737 ** \n",
       "z.diff.lag2  -0.273730   0.073309  -3.734 0.000292 ***\n",
       "z.diff.lag3  -0.233607   0.072258  -3.233 0.001589 ** \n",
       "z.diff.lag4  -0.293133   0.073926  -3.965 0.000126 ***\n",
       "z.diff.lag5  -0.206562   0.072058  -2.867 0.004915 ** \n",
       "z.diff.lag6  -0.266919   0.071493  -3.734 0.000292 ***\n",
       "z.diff.lag7  -0.234526   0.071847  -3.264 0.001436 ** \n",
       "z.diff.lag8  -0.327393   0.073197  -4.473 1.79e-05 ***\n",
       "z.diff.lag9  -0.198455   0.073623  -2.696 0.008054 ** \n",
       "z.diff.lag10 -0.279931   0.072710  -3.850 0.000192 ***\n",
       "z.diff.lag11 -0.176122   0.073011  -2.412 0.017394 *  \n",
       "z.diff.lag12  0.627402   0.072683   8.632 3.34e-14 ***\n",
       "---\n",
       "Signif. codes:  0 '***' 0.001 '**' 0.01 '*' 0.05 '.' 0.1 ' ' 1\n",
       "\n",
       "Residual standard error: 0.04308 on 118 degrees of freedom\n",
       "Multiple R-squared:  0.8564,\tAdjusted R-squared:  0.8406 \n",
       "F-statistic: 54.14 on 13 and 118 DF,  p-value: < 2.2e-16\n",
       "\n",
       "\n",
       "Value of test-statistic is: 3.7872 \n",
       "\n",
       "Critical values for test statistics: \n",
       "      1pct  5pct 10pct\n",
       "tau1 -2.58 -1.95 -1.62\n"
      ]
     },
     "metadata": {},
     "output_type": "display_data"
    }
   ],
   "source": [
    "library(urca)\n",
    "summary(ur.df(lAirpassengers, lags = 12))"
   ]
  },
  {
   "cell_type": "markdown",
   "metadata": {},
   "source": [
    "Esta prueba estima la significancia de los rezagos como coeficientes de regresión. Por otro lado como el valor del estadístico no es menor que cualquiera de los valores críticos de niveles de significancia usual, entonces no rechazo $H_0$"
   ]
  },
  {
   "cell_type": "code",
   "execution_count": 9,
   "metadata": {},
   "outputs": [
    {
     "data": {
      "image/png": "[encoded data removed]",
      "text/plain": [
       "plot without title"
      ]
     },
     "metadata": {},
     "output_type": "display_data"
    }
   ],
   "source": [
    "dlAirpassengers=diff(lAirpassengers,lag=1)\n",
    "options(repr.plot.width=6, repr.plot.height=8)\n",
    "par(mfrow=c(2,1))\n",
    "plot(lAirpassengers)\n",
    "plot(dlAirpassengers)"
   ]
  },
  {
   "cell_type": "code",
   "execution_count": 10,
   "metadata": {},
   "outputs": [
    {
     "data": {
      "text/plain": [
       "\n",
       "Title:\n",
       " Augmented Dickey-Fuller Test\n",
       "\n",
       "Test Results:\n",
       "  PARAMETER:\n",
       "    Lag Order: 2\n",
       "  STATISTIC:\n",
       "    Dickey-Fuller: -7.6337\n",
       "  P VALUE:\n",
       "    0.01 \n",
       "\n",
       "Description:\n",
       " Tue Jun 25 19:54:45 2019 by user: FM\n"
      ]
     },
     "metadata": {},
     "output_type": "display_data"
    }
   ],
   "source": [
    "adfTest(dlAirpassengers,lags = 2,type='nc') ###No se debe diferenciar más"
   ]
  },
  {
   "cell_type": "markdown",
   "metadata": {},
   "source": [
    "#  Ejercicios de Simulación"
   ]
  },
  {
   "cell_type": "code",
   "execution_count": 11,
   "metadata": {},
   "outputs": [
    {
     "data": {
      "image/png": "[encoded data removed]",
      "text/plain": [
       "plot without title"
      ]
     },
     "metadata": {},
     "output_type": "display_data"
    }
   ],
   "source": [
    "Tlength=200\n",
    "a0=3\n",
    "a1=0.5\n",
    "tiempo=seq(1:Tlength)\n",
    "xt=a1*tiempo\n",
    "tendencia=a0+a1*tiempo\n",
    "drift=a1*rep(1,Tlength)\n",
    "arimaej=arima.sim(list(order = c(1,0,1), ar = 0.7,ma=0.6), n = Tlength)\n",
    "options(repr.plot.width=4, repr.plot.height=3) \n",
    "plot(arimaej)"
   ]
  },
  {
   "cell_type": "code",
   "execution_count": 12,
   "metadata": {},
   "outputs": [
    {
     "data": {
      "image/png": "[encoded data removed]",
      "text/plain": [
       "plot without title"
      ]
     },
     "metadata": {},
     "output_type": "display_data"
    }
   ],
   "source": [
    "drift=as.ts(cumsum(arimaej+a0))\n",
    "plot(drift)"
   ]
  },
  {
   "cell_type": "code",
   "execution_count": 13,
   "metadata": {},
   "outputs": [
    {
     "data": {
      "image/png": "[encoded data removed]",
      "text/plain": [
       "plot without title"
      ]
     },
     "metadata": {},
     "output_type": "display_data"
    }
   ],
   "source": [
    "linear=as.ts(cumsum(arimaej+a0+xt))\n",
    "plot(linear)"
   ]
  },
  {
   "cell_type": "code",
   "execution_count": 14,
   "metadata": {},
   "outputs": [
    {
     "data": {
      "text/plain": [
       "\n",
       "Title:\n",
       " Augmented Dickey-Fuller Test\n",
       "\n",
       "Test Results:\n",
       "  PARAMETER:\n",
       "    Lag Order: 10\n",
       "  STATISTIC:\n",
       "    Dickey-Fuller: -2.7534\n",
       "  P VALUE:\n",
       "    0.01 \n",
       "\n",
       "Description:\n",
       " Tue Jun 25 19:56:19 2019 by user: FM\n"
      ]
     },
     "metadata": {},
     "output_type": "display_data"
    }
   ],
   "source": [
    "adfTest(arimaej,lags = 10,type='nc')   ###No hay presencia de Raíz Unitaria"
   ]
  },
  {
   "cell_type": "code",
   "execution_count": 15,
   "metadata": {},
   "outputs": [
    {
     "data": {
      "text/plain": [
       "\n",
       "\tAugmented Dickey-Fuller Test\n",
       "\n",
       "data:  drift\n",
       "Dickey-Fuller = -1.7666, Lag order = 5, p-value = 0.6739\n",
       "alternative hypothesis: stationary\n"
      ]
     },
     "metadata": {},
     "output_type": "display_data"
    }
   ],
   "source": [
    "tseries::adf.test(drift)"
   ]
  },
  {
   "cell_type": "code",
   "execution_count": 16,
   "metadata": {},
   "outputs": [
    {
     "data": {
      "text/plain": [
       "\n",
       "Title:\n",
       " Augmented Dickey-Fuller Test\n",
       "\n",
       "Test Results:\n",
       "  PARAMETER:\n",
       "    Lag Order: 10\n",
       "  STATISTIC:\n",
       "    Dickey-Fuller: 0.2051\n",
       "  P VALUE:\n",
       "    0.9716 \n",
       "\n",
       "Description:\n",
       " Tue Jun 25 19:58:51 2019 by user: FM\n"
      ]
     },
     "metadata": {},
     "output_type": "display_data"
    }
   ],
   "source": [
    "adfTest(drift,lags = 10,type='c')"
   ]
  },
  {
   "cell_type": "code",
   "execution_count": 18,
   "metadata": {},
   "outputs": [
    {
     "data": {
      "image/png": "[encoded data removed]",
      "text/plain": [
       "plot without title"
      ]
     },
     "metadata": {},
     "output_type": "display_data"
    }
   ],
   "source": [
    "estacionario=arima.sim(list(order = c(1,0,1), ar = 0.7,ma=0.6), n = Tlength)\n",
    "trend.estacionario=tendencia+estacionario\n",
    "plot(trend.estacionario)"
   ]
  },
  {
   "cell_type": "code",
   "execution_count": 19,
   "metadata": {},
   "outputs": [
    {
     "data": {
      "text/plain": [
       "\n",
       "Title:\n",
       " Augmented Dickey-Fuller Test\n",
       "\n",
       "Test Results:\n",
       "  PARAMETER:\n",
       "    Lag Order: 10\n",
       "  STATISTIC:\n",
       "    Dickey-Fuller: 3.3146\n",
       "  P VALUE:\n",
       "    0.99 \n",
       "\n",
       "Description:\n",
       " Tue Jun 25 20:03:11 2019 by user: FM\n"
      ]
     },
     "metadata": {},
     "output_type": "display_data"
    },
    {
     "data": {
      "text/plain": [
       "\n",
       "Title:\n",
       " Augmented Dickey-Fuller Test\n",
       "\n",
       "Test Results:\n",
       "  PARAMETER:\n",
       "    Lag Order: 1\n",
       "  STATISTIC:\n",
       "    Dickey-Fuller: -6.5721\n",
       "  P VALUE:\n",
       "    0.01 \n",
       "\n",
       "Description:\n",
       " Tue Jun 25 20:03:11 2019 by user: FM\n"
      ]
     },
     "metadata": {},
     "output_type": "display_data"
    }
   ],
   "source": [
    "adfTest(trend.estacionario,lags=10)\n",
    "adfTest(trend.estacionario,lags=1,type='ct')"
   ]
  },
  {
   "cell_type": "markdown",
   "metadata": {},
   "source": [
    "# Diferencia Estacional(continuación AirPassengers)"
   ]
  },
  {
   "cell_type": "code",
   "execution_count": 22,
   "metadata": {},
   "outputs": [
    {
     "data": {
      "image/png": "[encoded data removed]",
      "text/plain": [
       "plot without title"
      ]
     },
     "metadata": {},
     "output_type": "display_data"
    }
   ],
   "source": [
    "monthplot(dlAirpassengers)"
   ]
  },
  {
   "cell_type": "code",
   "execution_count": 25,
   "metadata": {},
   "outputs": [
    {
     "data": {
      "text/html": [
       "1"
      ],
      "text/latex": [
       "1"
      ],
      "text/markdown": [
       "1"
      ],
      "text/plain": [
       "[1] 1"
      ]
     },
     "metadata": {},
     "output_type": "display_data"
    }
   ],
   "source": [
    "library(forecast)\n",
    "nsdiffs(dlAirpassengers) # Number of differences required for a seasonally stationary series"
   ]
  },
  {
   "cell_type": "code",
   "execution_count": 26,
   "metadata": {},
   "outputs": [
    {
     "data": {
      "text/html": [
       "1"
      ],
      "text/latex": [
       "1"
      ],
      "text/markdown": [
       "1"
      ],
      "text/plain": [
       "[1] 1"
      ]
     },
     "metadata": {},
     "output_type": "display_data"
    }
   ],
   "source": [
    "nsdiffs(AirPassengers)"
   ]
  },
  {
   "cell_type": "code",
   "execution_count": 27,
   "metadata": {},
   "outputs": [],
   "source": [
    "DdlAirpassengers=diff(dlAirpassengers,lag=12)"
   ]
  },
  {
   "cell_type": "code",
   "execution_count": 34,
   "metadata": {},
   "outputs": [
    {
     "data": {
      "image/png": "[encoded data removed]",
      "text/plain": [
       "plot without title"
      ]
     },
     "metadata": {},
     "output_type": "display_data"
    }
   ],
   "source": [
    "options(repr.plot.width=6, repr.plot.height=8)\n",
    "par(mfrow=c(2,1))\n",
    "plot(dlAirpassengers)\n",
    "plot(DdlAirpassengers)"
   ]
  },
  {
   "cell_type": "code",
   "execution_count": 35,
   "metadata": {},
   "outputs": [
    {
     "data": {
      "image/png": "[encoded data removed]",
      "text/plain": [
       "plot without title"
      ]
     },
     "metadata": {},
     "output_type": "display_data"
    }
   ],
   "source": [
    "options(repr.plot.width=4, repr.plot.height=3) \n",
    "monthplot(DdlAirpassengers)"
   ]
  },
  {
   "cell_type": "code",
   "execution_count": 30,
   "metadata": {},
   "outputs": [
    {
     "data": {
      "text/html": [
       "0"
      ],
      "text/latex": [
       "0"
      ],
      "text/markdown": [
       "0"
      ],
      "text/plain": [
       "[1] 0"
      ]
     },
     "metadata": {},
     "output_type": "display_data"
    }
   ],
   "source": [
    "nsdiffs(DdlAirpassengers)"
   ]
  },
  {
   "cell_type": "code",
   "execution_count": 32,
   "metadata": {},
   "outputs": [
    {
     "data": {
      "image/png": "[encoded data removed]",
      "text/plain": [
       "Plot with title \"Series  DdlAirpassengers\""
      ]
     },
     "metadata": {},
     "output_type": "display_data"
    },
    {
     "data": {
      "image/png": "[encoded data removed]",
      "text/plain": [
       "Plot with title \"Series  DdlAirpassengers\""
      ]
     },
     "metadata": {},
     "output_type": "display_data"
    }
   ],
   "source": [
    "acf(DdlAirpassengers,lag.max = 48, ci.type='ma')\n",
    "pacf(DdlAirpassengers,lag.max = 48)"
   ]
  },
  {
   "cell_type": "markdown",
   "metadata": {},
   "source": [
    "## Ajuste del modelo"
   ]
  },
  {
   "cell_type": "code",
   "execution_count": 37,
   "metadata": {},
   "outputs": [
    {
     "name": "stderr",
     "output_type": "stream",
     "text": [
      "Loading required package: zoo\n",
      "\n",
      "Attaching package: 'zoo'\n",
      "\n",
      "The following object is masked from 'package:timeSeries':\n",
      "\n",
      "    time<-\n",
      "\n",
      "The following objects are masked from 'package:base':\n",
      "\n",
      "    as.Date, as.Date.numeric\n",
      "\n"
     ]
    },
    {
     "data": {
      "text/plain": [
       "\n",
       "z test of coefficients:\n",
       "\n",
       "      Estimate Std. Error z value  Pr(>|z|)    \n",
       "ma1  -0.401828   0.089644 -4.4825 7.378e-06 ***\n",
       "sma1 -0.556945   0.073100 -7.6190 2.557e-14 ***\n",
       "---\n",
       "Signif. codes:  0 '***' 0.001 '**' 0.01 '*' 0.05 '.' 0.1 ' ' 1\n"
      ]
     },
     "metadata": {},
     "output_type": "display_data"
    }
   ],
   "source": [
    "library(lmtest)\n",
    "modelo = Arima(AirPassengers, c(0, 1, 1),seasonal = list(order = c(0, 1, 1), period = 12),lambda = 0)\n",
    "coeftest(modelo) #Modelo MA(1) estacional\n",
    "modeloalter= Arima(AirPassengers, c(1, 1, 0),seasonal = list(order = c(1, 1, 0), period = 12),lambda = 0)"
   ]
  },
  {
   "cell_type": "markdown",
   "metadata": {},
   "source": [
    "## Análisis de residuales"
   ]
  },
  {
   "cell_type": "code",
   "execution_count": 38,
   "metadata": {},
   "outputs": [
    {
     "data": {
      "image/png": "[encoded data removed]",
      "text/plain": [
       "Plot with title \"Series  residuales\""
      ]
     },
     "metadata": {},
     "output_type": "display_data"
    },
    {
     "data": {
      "image/png": "[encoded data removed]",
      "text/plain": [
       "Plot with title \"Series  residuales\""
      ]
     },
     "metadata": {},
     "output_type": "display_data"
    }
   ],
   "source": [
    "residuales <- modelo$residuals\n",
    "acf(residuales)\n",
    "pacf(residuales)"
   ]
  },
  {
   "cell_type": "code",
   "execution_count": 39,
   "metadata": {},
   "outputs": [
    {
     "data": {
      "text/plain": [
       "\n",
       "\tJarque Bera Test\n",
       "\n",
       "data:  residuales\n",
       "X-squared = 5.2265, df = 2, p-value = 0.0733\n"
      ]
     },
     "metadata": {},
     "output_type": "display_data"
    },
    {
     "data": {
      "text/plain": [
       "\n",
       "\tBox-Ljung test\n",
       "\n",
       "data:  residuales\n",
       "X-squared = 37.874, df = 34, p-value = 0.2969\n"
      ]
     },
     "metadata": {},
     "output_type": "display_data"
    }
   ],
   "source": [
    "#Test de normalidad\n",
    "jarque.bera.test(residuales)\n",
    "#Test de autocorrelación\n",
    "Box.test(residuales, lag = (length(residuales)/4), type = \"Ljung-Box\", fitdf = 2)"
   ]
  },
  {
   "cell_type": "code",
   "execution_count": 41,
   "metadata": {},
   "outputs": [
    {
     "data": {
      "image/png": "[encoded data removed]",
      "text/plain": [
       "Plot with title \"CUSUMSQ\""
      ]
     },
     "metadata": {},
     "output_type": "display_data"
    }
   ],
   "source": [
    "#Estadsíticas CUSUM\n",
    "res=residuales\n",
    "cum=cumsum(res)/sd(res)\n",
    "N=length(res)\n",
    "cumq=cumsum(res^2)/sum(res^2)\n",
    "Af=0.948 ###Cuantil del 95% para la estad?stica cusum\n",
    "co=0.14422####Valor del cuantil aproximado para cusumsq para n/2\n",
    "LS=Af*sqrt(N)+2*Af*c(1:length(res))/sqrt(N)\n",
    "LI=-LS\n",
    "LQS=co+(1:length(res))/N\n",
    "LQI=-co+(1:length(res))/N\n",
    "options(repr.plot.width=6, repr.plot.height=8)\n",
    "par(mfrow=c(2,1))\n",
    "plot(cum,type=\"l\",ylim=c(min(LI),max(LS)),xlab=\"t\",ylab=\"\",main=\"CUSUM\")\n",
    "lines(LS,type=\"S\",col=\"red\")\n",
    "lines(LI,type=\"S\",col=\"red\")\n",
    "#CUSUM Square\n",
    "plot(cumq,type=\"l\",xlab=\"t\",ylab=\"\",main=\"CUSUMSQ\")                      \n",
    "lines(LQS,type=\"S\",col=\"red\")                                                                           \n",
    "lines(LQI,type=\"S\",col=\"red\")"
   ]
  },
  {
   "cell_type": "markdown",
   "metadata": {},
   "source": [
    "## Pronósticos"
   ]
  },
  {
   "cell_type": "code",
   "execution_count": 43,
   "metadata": {},
   "outputs": [
    {
     "data": {
      "image/png": "[encoded data removed]",
      "text/plain": [
       "Plot with title \"Forecasts from ARIMA(0,1,1)(0,1,1)[12]\""
      ]
     },
     "metadata": {},
     "output_type": "display_data"
    },
    {
     "data": {
      "image/png": "[encoded data removed]",
      "text/plain": [
       "plot without title"
      ]
     },
     "metadata": {},
     "output_type": "display_data"
    }
   ],
   "source": [
    "Pronosticos=forecast(modelo,h=12,level=0.95)\n",
    "options(repr.plot.width=4, repr.plot.height=3) \n",
    "plot(Pronosticos)\n",
    "predic<-predict(modelo,n.ahead=12)\n",
    "plot(predic$pred)"
   ]
  },
  {
   "cell_type": "markdown",
   "metadata": {},
   "source": [
    "## Comparación de pronósticos"
   ]
  },
  {
   "cell_type": "code",
   "execution_count": 45,
   "metadata": {},
   "outputs": [],
   "source": [
    "library(fpp)\n",
    "train <- window(AirPassengers,start=c(1949,01),end=c(1959,12))\n",
    "test <- window(AirPassengers,start=c(1960,01),end=c(1960,12))\n",
    "fitmodelo <- Arima(AirPassengers, c(0, 1, 1),seasonal = list(order = c(0, 1, 1), period = 12),lambda = 0)\n",
    "refit <- Arima(AirPassengers, model=fitmodelo)\n",
    "fc <- window(fitted(refit), start=c(1960,1))"
   ]
  },
  {
   "cell_type": "markdown",
   "metadata": {},
   "source": [
    "window: Extracts a part from a 'timeSeries Object' \n",
    "\n",
    "train: muestra de entrenamiento (\"aprendizaje\") \n",
    "\n",
    "test: muestra para hacer pronósticos intra-muestra"
   ]
  },
  {
   "cell_type": "code",
   "execution_count": 46,
   "metadata": {},
   "outputs": [
    {
     "data": {
      "text/html": [
       "342.095538552509"
      ],
      "text/latex": [
       "342.095538552509"
      ],
      "text/markdown": [
       "342.095538552509"
      ],
      "text/plain": [
       "[1] 342.0955"
      ]
     },
     "metadata": {},
     "output_type": "display_data"
    }
   ],
   "source": [
    "h <- 1\n",
    "train <- window(AirPassengers,start=c(1949,01),end=c(1959,12))\n",
    "test <- window(AirPassengers,start=c(1960,01),end=c(1960,12))\n",
    "n <- length(test) - h + 1\n",
    "fitmodelo <- Arima(AirPassengers, c(0, 1, 1),seasonal = list(order = c(0, 1, 1), period = 12),lambda = 0)\n",
    "fc <- ts(numeric(n), start=c(1960,01), freq=12)\n",
    "for(i in 1:n)\n",
    "{  \n",
    "  x <- window(AirPassengers, end=c(1959, 12+(i-1)))\n",
    "  refit <- Arima(x, model=fitmodelo)\n",
    "  fc[i] <- forecast(refit, h=h)$mean[h]\n",
    "}\n",
    "dife=(test-fc)^2\n",
    "ecm=(1/(length(test)))*sum(dife)\n",
    "ecm"
   ]
  }
 ],
 "metadata": {
  "kernelspec": {
   "display_name": "R",
   "language": "R",
   "name": "ir"
  },
  "language_info": {
   "codemirror_mode": "r",
   "file_extension": ".r",
   "mimetype": "text/x-r-source",
   "name": "R",
   "pygments_lexer": "r",
   "version": "3.5.1"
  }
 },
 "nbformat": 4,
 "nbformat_minor": 2
}
