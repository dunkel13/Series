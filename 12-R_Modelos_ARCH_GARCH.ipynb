{
 "cells": [
  {
   "cell_type": "markdown",
   "metadata": {},
   "source": [
    "# Modelos ARCH y GARCH"
   ]
  },
  {
   "cell_type": "code",
   "execution_count": 2,
   "metadata": {},
   "outputs": [],
   "source": [
    "options(warn=-1) #suppress warnings globally in an R Script\n",
    "library(fGarch)\n",
    "library(aTSA)\n",
    "library(forecast)"
   ]
  },
  {
   "cell_type": "markdown",
   "metadata": {},
   "source": [
    "## Especificación, simulación y estimación de modelos ARCH y GARCH por medio de dos librerías diferentes"
   ]
  },
  {
   "cell_type": "markdown",
   "metadata": {},
   "source": [
    "# ARCH(2)\n",
    "\n",
    "Especificar el modelo \n",
    "\n",
    "Simulación de la serie"
   ]
  },
  {
   "cell_type": "code",
   "execution_count": 52,
   "metadata": {},
   "outputs": [
    {
     "data": {
      "image/png": "[encoded data removed]",
      "text/plain": [
       "plot without title"
      ]
     },
     "metadata": {},
     "output_type": "display_data"
    },
    {
     "data": {
      "image/png": "[encoded data removed]",
      "text/plain": [
       "Plot with title \"Series  ARCH2\""
      ]
     },
     "metadata": {},
     "output_type": "display_data"
    }
   ],
   "source": [
    "set.seed(12)\n",
    "spec = garchSpec(model = list(alpha = c(0.2, 0.4), beta = 0))\n",
    "ARCH2=garchSim(spec, n = 500)\n",
    "options(repr.plot.width=4, repr.plot.height=3) \n",
    "plot(ARCH2)\n",
    "acf(ARCH2)"
   ]
  },
  {
   "cell_type": "code",
   "execution_count": 53,
   "metadata": {},
   "outputs": [
    {
     "data": {
      "image/png": "[encoded data removed]",
      "text/plain": [
       "Plot with title \"Series  ARCH2\""
      ]
     },
     "metadata": {},
     "output_type": "display_data"
    }
   ],
   "source": [
    "pacf(ARCH2)"
   ]
  },
  {
   "cell_type": "code",
   "execution_count": 51,
   "metadata": {},
   "outputs": [
    {
     "data": {
      "image/png": "[encoded data removed]",
      "text/plain": [
       "Plot with title \"Series  ARCH2^2\""
      ]
     },
     "metadata": {},
     "output_type": "display_data"
    },
    {
     "data": {
      "image/png": "[encoded data removed]",
      "text/plain": [
       "Plot with title \"Series  ARCH2^2\""
      ]
     },
     "metadata": {},
     "output_type": "display_data"
    }
   ],
   "source": [
    "acf(ARCH2^2)\n",
    "pacf(ARCH2^2)"
   ]
  },
  {
   "cell_type": "code",
   "execution_count": 5,
   "metadata": {},
   "outputs": [
    {
     "data": {
      "text/plain": [
       "\n",
       "\tBox-Ljung test\n",
       "\n",
       "data:  ARCH2^2\n",
       "X-squared = 71.733, df = 20, p-value = 9.469e-08\n"
      ]
     },
     "metadata": {},
     "output_type": "display_data"
    },
    {
     "data": {
      "text/plain": [
       "\n",
       "z test of coefficients:\n",
       "\n",
       "     Estimate Std. Error z value Pr(>|z|)  \n",
       "ar2 -0.093046   0.044700 -2.0816  0.03738 *\n",
       "ar3  0.104951   0.044655  2.3502  0.01876 *\n",
       "---\n",
       "Signif. codes:  0 '***' 0.001 '**' 0.01 '*' 0.05 '.' 0.1 ' ' 1\n"
      ]
     },
     "metadata": {},
     "output_type": "display_data"
    },
    {
     "data": {
      "text/plain": [
       "\n",
       "Call:\n",
       "arima(x = ARCH2, order = c(3, 0, 0), include.mean = FALSE, fixed = c(0, NA, \n",
       "    NA))\n",
       "\n",
       "Coefficients:\n",
       "      ar1      ar2     ar3\n",
       "        0  -0.0930  0.1050\n",
       "s.e.    0   0.0447  0.0447\n",
       "\n",
       "sigma^2 estimated as 1.855e-06:  log likelihood = 2589.9,  aic = -5173.8"
      ]
     },
     "metadata": {},
     "output_type": "display_data"
    }
   ],
   "source": [
    "Box.test(ARCH2^2,lag=20,type='Ljung-Box') #Rechazo que No hay autocorrelación presente  en la serie\n",
    "salidaarima=arima(ARCH2,order = c(3,0,0),include.mean = FALSE,fixed=c(0,NA,NA)) # fixed=c(0,NA,NA) el ar1 no es significativo\n",
    "library(lmtest)\n",
    "coeftest(salidaarima)\n",
    "salidaarima"
   ]
  },
  {
   "cell_type": "markdown",
   "metadata": {},
   "source": [
    "## Pruebas Portmanteau\n",
    "\n",
    "Efectos ARCH"
   ]
  },
  {
   "cell_type": "code",
   "execution_count": 6,
   "metadata": {},
   "outputs": [
    {
     "name": "stdout",
     "output_type": "stream",
     "text": [
      "ARCH heteroscedasticity test for residuals \n",
      "alternative: heteroscedastic \n",
      "\n",
      "Portmanteau-Q test: \n",
      "     order   PQ  p.value\n",
      "[1,]     4 43.7 7.42e-09\n",
      "[2,]     8 45.3 3.26e-07\n",
      "[3,]    12 47.5 3.77e-06\n",
      "[4,]    16 48.2 4.42e-05\n",
      "[5,]    20 52.6 9.27e-05\n",
      "[6,]    24 56.1 2.19e-04\n",
      "Lagrange-Multiplier test: \n",
      "     order    LM  p.value\n",
      "[1,]     4 161.6 0.00e+00\n",
      "[2,]     8  77.4 4.72e-14\n",
      "[3,]    12  49.6 7.29e-07\n",
      "[4,]    16  36.4 1.54e-03\n",
      "[5,]    20  27.7 8.96e-02\n",
      "[6,]    24  22.2 5.08e-01\n"
     ]
    },
    {
     "data": {
      "image/png": "[encoded data removed]",
      "text/plain": [
       "plot without title"
      ]
     },
     "metadata": {},
     "output_type": "display_data"
    }
   ],
   "source": [
    "options(repr.plot.width=6, repr.plot.height=5)\n",
    "arch.test(salidaarima)\n",
    "resarma=residuals(salidaarima)^2"
   ]
  },
  {
   "cell_type": "code",
   "execution_count": 7,
   "metadata": {},
   "outputs": [
    {
     "data": {
      "image/png": "[encoded data removed]",
      "text/plain": [
       "Plot with title \"Series  resarma\""
      ]
     },
     "metadata": {},
     "output_type": "display_data"
    }
   ],
   "source": [
    "options(repr.plot.width=4, repr.plot.height=3)\n",
    "pacf(resarma,lag.max = 20)"
   ]
  },
  {
   "cell_type": "markdown",
   "metadata": {},
   "source": [
    "## Ajuste de la serie"
   ]
  },
  {
   "cell_type": "code",
   "execution_count": 8,
   "metadata": {},
   "outputs": [
    {
     "data": {
      "text/plain": [
       "\n",
       "Title:\n",
       " GARCH Modelling \n",
       "\n",
       "Call:\n",
       " garchFit(formula = garch ~ arma(3, 0) + garch(2, 0), data = ARCH2, \n",
       "    include.mean = FALSE, trace = F) \n",
       "\n",
       "Mean and Variance Equation:\n",
       " data ~ arma(3, 0) + garch(2, 0)\n",
       "<environment: 0x0000000035fd7a30>\n",
       " [data = ARCH2]\n",
       "\n",
       "Conditional Distribution:\n",
       " norm \n",
       "\n",
       "Coefficient(s):\n",
       "        ar1          ar2          ar3        omega       alpha1       alpha2  \n",
       "-1.2976e-02  -2.1306e-02   4.9982e-02   9.9589e-07   1.3040e-01   3.4684e-01  \n",
       "\n",
       "Std. Errors:\n",
       " based on Hessian \n",
       "\n",
       "Error Analysis:\n",
       "         Estimate  Std. Error  t value Pr(>|t|)    \n",
       "ar1    -1.298e-02   4.457e-02   -0.291   0.7710    \n",
       "ar2    -2.131e-02   4.723e-02   -0.451   0.6519    \n",
       "ar3     4.998e-02   4.093e-02    1.221   0.2221    \n",
       "omega   9.959e-07   1.178e-07    8.452  < 2e-16 ***\n",
       "alpha1  1.304e-01   5.229e-02    2.494   0.0126 *  \n",
       "alpha2  3.468e-01   7.901e-02    4.390 1.14e-05 ***\n",
       "---\n",
       "Signif. codes:  0 '***' 0.001 '**' 0.01 '*' 0.05 '.' 0.1 ' ' 1\n",
       "\n",
       "Log Likelihood:\n",
       " 2618.65    normalized:  5.2373 \n",
       "\n",
       "Description:\n",
       " Thu Jul 04 23:51:32 2019 by user: FM \n"
      ]
     },
     "metadata": {},
     "output_type": "display_data"
    }
   ],
   "source": [
    "m1=garchFit(garch~arma(3,0)+garch(2,0),data=ARCH2,trace=F,include.mean = FALSE)\n",
    "m1"
   ]
  },
  {
   "cell_type": "markdown",
   "metadata": {},
   "source": [
    "Como los parámteros del modelo ARMA(3,0) no resultan ser significativos, debido posiblemente a que la estrucutra de correlación es débil, entonces se procede de la siguiente manera:"
   ]
  },
  {
   "cell_type": "code",
   "execution_count": 9,
   "metadata": {},
   "outputs": [
    {
     "data": {
      "text/plain": [
       "\n",
       "Title:\n",
       " GARCH Modelling \n",
       "\n",
       "Call:\n",
       " garchFit(formula = garch ~ arma(0, 0) + garch(2, 0), data = ARCH2, \n",
       "    include.mean = FALSE, trace = F) \n",
       "\n",
       "Mean and Variance Equation:\n",
       " data ~ arma(0, 0) + garch(2, 0)\n",
       "<environment: 0x0000000034d12b90>\n",
       " [data = ARCH2]\n",
       "\n",
       "Conditional Distribution:\n",
       " norm \n",
       "\n",
       "Coefficient(s):\n",
       "     omega      alpha1      alpha2  \n",
       "9.8967e-07  1.3911e-01  3.5788e-01  \n",
       "\n",
       "Std. Errors:\n",
       " based on Hessian \n",
       "\n",
       "Error Analysis:\n",
       "        Estimate  Std. Error  t value Pr(>|t|)    \n",
       "omega  9.897e-07   1.187e-07    8.336  < 2e-16 ***\n",
       "alpha1 1.391e-01   5.484e-02    2.536   0.0112 *  \n",
       "alpha2 3.579e-01   7.996e-02    4.475 7.63e-06 ***\n",
       "---\n",
       "Signif. codes:  0 '***' 0.001 '**' 0.01 '*' 0.05 '.' 0.1 ' ' 1\n",
       "\n",
       "Log Likelihood:\n",
       " 2614.238    normalized:  5.228476 \n",
       "\n",
       "Description:\n",
       " Thu Jul 04 23:51:38 2019 by user: FM \n"
      ]
     },
     "metadata": {},
     "output_type": "display_data"
    }
   ],
   "source": [
    "m=garchFit(garch~arma(0,0)+garch(2,0),data=ARCH2,trace=F,include.mean = FALSE)\n",
    "m"
   ]
  },
  {
   "cell_type": "markdown",
   "metadata": {},
   "source": [
    "# ARCH(1)\n",
    "\n",
    "Omega es el coeficiente constante de la ecuación de varianza"
   ]
  },
  {
   "cell_type": "code",
   "execution_count": 55,
   "metadata": {},
   "outputs": [
    {
     "data": {
      "image/png": "[encoded data removed]",
      "text/plain": [
       "plot without title"
      ]
     },
     "metadata": {},
     "output_type": "display_data"
    }
   ],
   "source": [
    "set.seed(100)\n",
    "spec = garchSpec(model = list(omega=0.5,alpha = c(0.5), beta = 0))\n",
    "ARCH1=garchSim(spec, n = 500,extended=F)\n",
    "plot(ARCH1)"
   ]
  },
  {
   "cell_type": "code",
   "execution_count": 56,
   "metadata": {},
   "outputs": [
    {
     "data": {
      "image/png": "[encoded data removed]",
      "text/plain": [
       "Plot with title \"Series  ARCH1\""
      ]
     },
     "metadata": {},
     "output_type": "display_data"
    },
    {
     "data": {
      "image/png": "[encoded data removed]",
      "text/plain": [
       "Plot with title \"Series  ARCH1\""
      ]
     },
     "metadata": {},
     "output_type": "display_data"
    }
   ],
   "source": [
    "acf(ARCH1)\n",
    "pacf(ARCH1)"
   ]
  },
  {
   "cell_type": "code",
   "execution_count": 57,
   "metadata": {},
   "outputs": [
    {
     "data": {
      "image/png": "[encoded data removed]",
      "text/plain": [
       "Plot with title \"Series  ARCH1^2\""
      ]
     },
     "metadata": {},
     "output_type": "display_data"
    },
    {
     "data": {
      "image/png": "[encoded data removed]",
      "text/plain": [
       "Plot with title \"Series  ARCH1^2\""
      ]
     },
     "metadata": {},
     "output_type": "display_data"
    }
   ],
   "source": [
    "acf(ARCH1^2)\n",
    "pacf(ARCH1^2)"
   ]
  },
  {
   "cell_type": "code",
   "execution_count": 12,
   "metadata": {},
   "outputs": [
    {
     "name": "stdout",
     "output_type": "stream",
     "text": [
      "ARCH heteroscedasticity test for residuals \n",
      "alternative: heteroscedastic \n",
      "\n",
      "Portmanteau-Q test: \n",
      "     order  PQ p.value\n",
      "[1,]     4 125       0\n",
      "[2,]     8 126       0\n",
      "[3,]    12 130       0\n",
      "[4,]    16 130       0\n",
      "[5,]    20 149       0\n",
      "[6,]    24 162       0\n",
      "Lagrange-Multiplier test: \n",
      "     order    LM  p.value\n",
      "[1,]     4 224.4 0.00e+00\n",
      "[2,]     8 109.6 0.00e+00\n",
      "[3,]    12  70.5 9.93e-11\n",
      "[4,]    16  50.6 9.57e-06\n",
      "[5,]    20  39.5 3.84e-03\n",
      "[6,]    24  26.9 2.61e-01\n"
     ]
    },
    {
     "data": {
      "image/png": "[encoded data removed]",
      "text/plain": [
       "plot without title"
      ]
     },
     "metadata": {},
     "output_type": "display_data"
    }
   ],
   "source": [
    "salidaarima=arima(ARCH1,order = c(0,0,0),include.mean = FALSE)\n",
    "options(repr.plot.width=6, repr.plot.height=5)\n",
    "arch.test(salidaarima)"
   ]
  },
  {
   "cell_type": "markdown",
   "metadata": {},
   "source": [
    "## Ajuste de la serie"
   ]
  },
  {
   "cell_type": "code",
   "execution_count": 13,
   "metadata": {},
   "outputs": [
    {
     "data": {
      "text/plain": [
       "\n",
       "Title:\n",
       " GARCH Modelling \n",
       "\n",
       "Call:\n",
       " garchFit(formula = garch ~ arma(1, 0) + garch(1, 1), data = ARCH1, \n",
       "    include.mean = FALSE, trace = F) \n",
       "\n",
       "Mean and Variance Equation:\n",
       " data ~ arma(1, 0) + garch(1, 1)\n",
       "<environment: 0x000000003635a7b8>\n",
       " [data = ARCH1]\n",
       "\n",
       "Conditional Distribution:\n",
       " norm \n",
       "\n",
       "Coefficient(s):\n",
       "        ar1        omega       alpha1        beta1  \n",
       "-0.01889935   0.46373868   0.62187234   0.00000001  \n",
       "\n",
       "Std. Errors:\n",
       " based on Hessian \n",
       "\n",
       "Error Analysis:\n",
       "         Estimate  Std. Error  t value Pr(>|t|)    \n",
       "ar1    -1.890e-02   3.019e-02   -0.626    0.531    \n",
       "omega   4.637e-01   3.814e-02   12.159  < 2e-16 ***\n",
       "alpha1  6.219e-01   8.640e-02    7.197 6.14e-13 ***\n",
       "beta1   1.000e-08          NA       NA       NA    \n",
       "---\n",
       "Signif. codes:  0 '***' 0.001 '**' 0.01 '*' 0.05 '.' 0.1 ' ' 1\n",
       "\n",
       "Log Likelihood:\n",
       " -665.4806    normalized:  -1.330961 \n",
       "\n",
       "Description:\n",
       " Thu Jul 04 23:52:19 2019 by user: FM \n"
      ]
     },
     "metadata": {},
     "output_type": "display_data"
    },
    {
     "data": {
      "image/png": "[encoded data removed]",
      "text/plain": [
       "plot without title"
      ]
     },
     "metadata": {},
     "output_type": "display_data"
    }
   ],
   "source": [
    "m1=garchFit(garch~arma(1,0)+garch(1,1),data=ARCH1,trace=F,include.mean = FALSE)\n",
    "m1\n",
    "sigmat=as.ts(m1@sigma.t)\n",
    "options(repr.plot.width=6, repr.plot.height=5)\n",
    "par(mfrow=c(2,1))\n",
    "plot(ARCH1)\n",
    "plot(sigmat)"
   ]
  },
  {
   "cell_type": "code",
   "execution_count": 14,
   "metadata": {},
   "outputs": [
    {
     "data": {
      "text/html": [
       "<table>\n",
       "<caption>A data.frame: 5 × 5</caption>\n",
       "<thead>\n",
       "\t<tr><th scope=col>meanForecast</th><th scope=col>meanError</th><th scope=col>standardDeviation</th><th scope=col>lowerInterval</th><th scope=col>upperInterval</th></tr>\n",
       "\t<tr><th scope=col>&lt;dbl&gt;</th><th scope=col>&lt;dbl&gt;</th><th scope=col>&lt;dbl&gt;</th><th scope=col>&lt;dbl&gt;</th><th scope=col>&lt;dbl&gt;</th></tr>\n",
       "</thead>\n",
       "<tbody>\n",
       "\t<tr><td>-5.454663e-02</td><td>2.402236</td><td>2.402236</td><td>-4.762842</td><td>4.653749</td></tr>\n",
       "\t<tr><td> 1.030896e-03</td><td>2.013569</td><td>2.013057</td><td>-3.945492</td><td>3.947554</td></tr>\n",
       "\t<tr><td>-1.948325e-05</td><td>1.727791</td><td>1.727372</td><td>-3.386428</td><td>3.386389</td></tr>\n",
       "\t<tr><td> 3.682207e-07</td><td>1.523272</td><td>1.522922</td><td>-2.985557</td><td>2.985558</td></tr>\n",
       "\t<tr><td>-6.959130e-09</td><td>1.380895</td><td>1.380594</td><td>-2.706504</td><td>2.706504</td></tr>\n",
       "</tbody>\n",
       "</table>\n"
      ],
      "text/latex": [
       "A data.frame: 5 × 5\n",
       "\\begin{tabular}{r|lllll}\n",
       " meanForecast & meanError & standardDeviation & lowerInterval & upperInterval\\\\\n",
       " <dbl> & <dbl> & <dbl> & <dbl> & <dbl>\\\\\n",
       "\\hline\n",
       "\t -5.454663e-02 & 2.402236 & 2.402236 & -4.762842 & 4.653749\\\\\n",
       "\t  1.030896e-03 & 2.013569 & 2.013057 & -3.945492 & 3.947554\\\\\n",
       "\t -1.948325e-05 & 1.727791 & 1.727372 & -3.386428 & 3.386389\\\\\n",
       "\t  3.682207e-07 & 1.523272 & 1.522922 & -2.985557 & 2.985558\\\\\n",
       "\t -6.959130e-09 & 1.380895 & 1.380594 & -2.706504 & 2.706504\\\\\n",
       "\\end{tabular}\n"
      ],
      "text/markdown": [
       "\n",
       "A data.frame: 5 × 5\n",
       "\n",
       "| meanForecast &lt;dbl&gt; | meanError &lt;dbl&gt; | standardDeviation &lt;dbl&gt; | lowerInterval &lt;dbl&gt; | upperInterval &lt;dbl&gt; |\n",
       "|---|---|---|---|---|\n",
       "| -5.454663e-02 | 2.402236 | 2.402236 | -4.762842 | 4.653749 |\n",
       "|  1.030896e-03 | 2.013569 | 2.013057 | -3.945492 | 3.947554 |\n",
       "| -1.948325e-05 | 1.727791 | 1.727372 | -3.386428 | 3.386389 |\n",
       "|  3.682207e-07 | 1.523272 | 1.522922 | -2.985557 | 2.985558 |\n",
       "| -6.959130e-09 | 1.380895 | 1.380594 | -2.706504 | 2.706504 |\n",
       "\n"
      ],
      "text/plain": [
       "  meanForecast  meanError standardDeviation lowerInterval upperInterval\n",
       "1 -5.454663e-02 2.402236  2.402236          -4.762842     4.653749     \n",
       "2  1.030896e-03 2.013569  2.013057          -3.945492     3.947554     \n",
       "3 -1.948325e-05 1.727791  1.727372          -3.386428     3.386389     \n",
       "4  3.682207e-07 1.523272  1.522922          -2.985557     2.985558     \n",
       "5 -6.959130e-09 1.380895  1.380594          -2.706504     2.706504     "
      ]
     },
     "metadata": {},
     "output_type": "display_data"
    },
    {
     "data": {
      "image/png": "[encoded data removed]",
      "text/plain": [
       "Plot with title \"Prediction with confidence intervals\""
      ]
     },
     "metadata": {},
     "output_type": "display_data"
    }
   ],
   "source": [
    "prediccion=predict(n.ahead=5,m1)\n",
    "predict(n.ahead=5,m1,plot=TRUE)"
   ]
  },
  {
   "cell_type": "markdown",
   "metadata": {},
   "source": [
    "# Ajuste Serie datos reales"
   ]
  },
  {
   "cell_type": "code",
   "execution_count": 17,
   "metadata": {},
   "outputs": [
    {
     "data": {
      "image/png": "[encoded data removed]",
      "text/plain": [
       "plot without title"
      ]
     },
     "metadata": {},
     "output_type": "display_data"
    },
    {
     "data": {
      "image/png": "[encoded data removed]",
      "text/plain": [
       "Plot with title \"Series  sp5\""
      ]
     },
     "metadata": {},
     "output_type": "display_data"
    }
   ],
   "source": [
    "sp5=as.ts(scan(file='C:/Users/FAMILIA MORENO/Documents/R/FMwd/SP500.txt'))\n",
    "options(repr.plot.width=4, repr.plot.height=3)\n",
    "plot(sp5)\n",
    "acf(sp5)"
   ]
  },
  {
   "cell_type": "code",
   "execution_count": 19,
   "metadata": {},
   "outputs": [
    {
     "data": {
      "image/png": "[encoded data removed]",
      "text/plain": [
       "Plot with title \"Series  sp5\""
      ]
     },
     "metadata": {},
     "output_type": "display_data"
    }
   ],
   "source": [
    "pacf(sp5) "
   ]
  },
  {
   "cell_type": "code",
   "execution_count": 20,
   "metadata": {},
   "outputs": [
    {
     "data": {
      "image/png": "[encoded data removed]",
      "text/plain": [
       "Plot with title \"Series  sp5^2\""
      ]
     },
     "metadata": {},
     "output_type": "display_data"
    }
   ],
   "source": [
    "acf(sp5^2)"
   ]
  },
  {
   "cell_type": "code",
   "execution_count": 21,
   "metadata": {},
   "outputs": [
    {
     "data": {
      "image/png": "[encoded data removed]",
      "text/plain": [
       "Plot with title \"Series  sp5^2\""
      ]
     },
     "metadata": {},
     "output_type": "display_data"
    }
   ],
   "source": [
    "pacf(sp5^2)"
   ]
  },
  {
   "cell_type": "code",
   "execution_count": 22,
   "metadata": {},
   "outputs": [
    {
     "data": {
      "text/plain": [
       "\n",
       "z test of coefficients:\n",
       "\n",
       "            Estimate Std. Error z value Pr(>|z|)    \n",
       "ar1       -0.1702494  0.1587912 -1.0722 0.283649    \n",
       "ar2       -0.6008847  0.1151817 -5.2168 1.82e-07 ***\n",
       "ma1        0.2657245  0.1608483  1.6520 0.098531 .  \n",
       "ma2        0.6261631  0.1301805  4.8100 1.51e-06 ***\n",
       "ma3       -0.0804203  0.0473898 -1.6970 0.089698 .  \n",
       "intercept  0.0061580  0.0020829  2.9565 0.003112 ** \n",
       "---\n",
       "Signif. codes:  0 '***' 0.001 '**' 0.01 '*' 0.05 '.' 0.1 ' ' 1\n"
      ]
     },
     "metadata": {},
     "output_type": "display_data"
    },
    {
     "data": {
      "text/plain": [
       "\n",
       "z test of coefficients:\n",
       "\n",
       "            Estimate Std. Error z value  Pr(>|z|)    \n",
       "ar1       -0.3615738  0.1201389 -3.0096  0.002616 ** \n",
       "ar2       -0.7183591  0.0804205 -8.9325 < 2.2e-16 ***\n",
       "ma1        0.4832025  0.1031864  4.6828  2.83e-06 ***\n",
       "ma2        0.7970222  0.0788931 10.1026 < 2.2e-16 ***\n",
       "intercept  0.0061644  0.0022354  2.7576  0.005822 ** \n",
       "---\n",
       "Signif. codes:  0 '***' 0.001 '**' 0.01 '*' 0.05 '.' 0.1 ' ' 1\n"
      ]
     },
     "metadata": {},
     "output_type": "display_data"
    },
    {
     "name": "stdout",
     "output_type": "stream",
     "text": [
      "ARCH heteroscedasticity test for residuals \n",
      "alternative: heteroscedastic \n",
      "\n",
      "Portmanteau-Q test: \n",
      "     order  PQ p.value\n",
      "[1,]     4 118       0\n",
      "[2,]     8 226       0\n",
      "[3,]    12 393       0\n",
      "[4,]    16 436       0\n",
      "[5,]    20 470       0\n",
      "[6,]    24 496       0\n",
      "Lagrange-Multiplier test: \n",
      "     order    LM  p.value\n",
      "[1,]     4 796.3 0.00e+00\n",
      "[2,]     8 365.1 0.00e+00\n",
      "[3,]    12 140.6 0.00e+00\n",
      "[4,]    16 102.7 4.00e-15\n",
      "[5,]    20  75.4 1.15e-08\n",
      "[6,]    24  56.4 1.25e-04\n"
     ]
    },
    {
     "data": {
      "image/png": "[encoded data removed]",
      "text/plain": [
       "plot without title"
      ]
     },
     "metadata": {},
     "output_type": "display_data"
    }
   ],
   "source": [
    "coeftest(auto.arima(sp5)) ####Se podría ajustar un ARMA(2,3) con constante\n",
    "modeloarima=arima(sp5,order = c(2,0,2),include.mean = TRUE)\n",
    "coeftest(modeloarima)\n",
    "options(repr.plot.width=6, repr.plot.height=5)\n",
    "arch.test(modeloarima)"
   ]
  },
  {
   "cell_type": "code",
   "execution_count": 24,
   "metadata": {},
   "outputs": [
    {
     "data": {
      "image/png": "[encoded data removed]",
      "text/plain": [
       "Plot with title \"Series  modeloarima$residual\""
      ]
     },
     "metadata": {},
     "output_type": "display_data"
    },
    {
     "data": {
      "image/png": "[encoded data removed]",
      "text/plain": [
       "Plot with title \"Series  modeloarima$residual\""
      ]
     },
     "metadata": {},
     "output_type": "display_data"
    }
   ],
   "source": [
    "options(repr.plot.width=4, repr.plot.height=3)\n",
    "acf(modeloarima$residual)\n",
    "pacf(modeloarima$residual)"
   ]
  },
  {
   "cell_type": "code",
   "execution_count": 25,
   "metadata": {},
   "outputs": [
    {
     "data": {
      "image/png": "[encoded data removed]",
      "text/plain": [
       "Plot with title \"Series  modeloarima$residual^2\""
      ]
     },
     "metadata": {},
     "output_type": "display_data"
    },
    {
     "data": {
      "image/png": "[encoded data removed]",
      "text/plain": [
       "Plot with title \"Series  modeloarima$residual^2\""
      ]
     },
     "metadata": {},
     "output_type": "display_data"
    }
   ],
   "source": [
    "acf(modeloarima$residual^2)\n",
    "pacf(modeloarima$residual^2)"
   ]
  },
  {
   "cell_type": "code",
   "execution_count": 26,
   "metadata": {},
   "outputs": [
    {
     "name": "stdout",
     "output_type": "stream",
     "text": [
      "\n",
      "Title:\n",
      " GARCH Modelling \n",
      "\n",
      "Call:\n",
      " garchFit(formula = ~arma(2, 2) + garch(1, 1), data = sp5, include.mean = T, \n",
      "    trace = F) \n",
      "\n",
      "Mean and Variance Equation:\n",
      " data ~ arma(2, 2) + garch(1, 1)\n",
      "<environment: 0x000000003648a950>\n",
      " [data = sp5]\n",
      "\n",
      "Conditional Distribution:\n",
      " norm \n",
      "\n",
      "Coefficient(s):\n",
      "         mu          ar1          ar2          ma1          ma2        omega  \n",
      " 1.4173e-02  -1.1856e-01  -7.9138e-01   1.7198e-01   7.6272e-01   7.7978e-05  \n",
      "     alpha1        beta1  \n",
      " 1.1961e-01   8.5716e-01  \n",
      "\n",
      "Std. Errors:\n",
      " based on Hessian \n",
      "\n",
      "Error Analysis:\n",
      "         Estimate  Std. Error  t value Pr(>|t|)    \n",
      "mu      1.417e-02   3.156e-03    4.491 7.10e-06 ***\n",
      "ar1    -1.186e-01   1.188e-01   -0.998  0.31810    \n",
      "ar2    -7.914e-01   1.101e-01   -7.188 6.59e-13 ***\n",
      "ma1     1.720e-01   1.316e-01    1.307  0.19114    \n",
      "ma2     7.627e-01   1.142e-01    6.678 2.42e-11 ***\n",
      "omega   7.798e-05   2.755e-05    2.830  0.00465 ** \n",
      "alpha1  1.196e-01   2.176e-02    5.497 3.87e-08 ***\n",
      "beta1   8.572e-01   2.151e-02   39.850  < 2e-16 ***\n",
      "---\n",
      "Signif. codes:  0 '***' 0.001 '**' 0.01 '*' 0.05 '.' 0.1 ' ' 1\n",
      "\n",
      "Log Likelihood:\n",
      " 1273.095    normalized:  1.607443 \n",
      "\n",
      "Description:\n",
      " Thu Jul 04 23:54:44 2019 by user: FM \n",
      "\n",
      "\n",
      "Standardised Residuals Tests:\n",
      "                                Statistic p-Value     \n",
      " Jarque-Bera Test   R    Chi^2  72.64713  2.220446e-16\n",
      " Shapiro-Wilk Test  R    W      0.9861063 7.819458e-07\n",
      " Ljung-Box Test     R    Q(10)  8.159207  0.6132892   \n",
      " Ljung-Box Test     R    Q(15)  12.9642   0.6050629   \n",
      " Ljung-Box Test     R    Q(20)  21.54718  0.3655784   \n",
      " Ljung-Box Test     R^2  Q(10)  10.24997  0.4188434   \n",
      " Ljung-Box Test     R^2  Q(15)  13.93336  0.5305894   \n",
      " Ljung-Box Test     R^2  Q(20)  15.84599  0.7261318   \n",
      " LM Arch Test       R    TR^2   12.85762  0.3794737   \n",
      "\n",
      "Information Criterion Statistics:\n",
      "      AIC       BIC       SIC      HQIC \n",
      "-3.194684 -3.147466 -3.194885 -3.176536 \n",
      "\n"
     ]
    }
   ],
   "source": [
    "modelosp5_1=garchFit(~arma(2,2)+garch(1,1),data=sp5,trace=F,include.mean=T)\n",
    "summary(modelosp5_1)"
   ]
  },
  {
   "cell_type": "code",
   "execution_count": 27,
   "metadata": {},
   "outputs": [
    {
     "data": {
      "image/png": "[encoded data removed]",
      "text/plain": [
       "Plot with title \"Prediction with confidence intervals\""
      ]
     },
     "metadata": {},
     "output_type": "display_data"
    }
   ],
   "source": [
    "#plot(modelosp5_1) #Error in menu(...): menu() cannot be used non-interactively\n",
    "options(repr.plot.width=6, repr.plot.height=5)\n",
    "prediccion=predict(modelosp5_1,n.ahead=10, plot=TRUE) "
   ]
  },
  {
   "cell_type": "markdown",
   "metadata": {},
   "source": [
    "## library(rugarch)\n",
    "\n",
    "Especificación del modelo"
   ]
  },
  {
   "cell_type": "code",
   "execution_count": 29,
   "metadata": {},
   "outputs": [
    {
     "name": "stdout",
     "output_type": "stream",
     "text": [
      "\n",
      "*---------------------------------*\n",
      "*          GARCH Model Fit        *\n",
      "*---------------------------------*\n",
      "\n",
      "Conditional Variance Dynamics \t\n",
      "-----------------------------------\n",
      "GARCH Model\t: sGARCH(3,0)\n",
      "Mean Model\t: ARFIMA(9,0,0)\n",
      "Distribution\t: norm \n",
      "\n",
      "Optimal Parameters\n",
      "------------------------------------\n",
      "        Estimate  Std. Error  t value Pr(>|t|)\n",
      "mu      0.006255    0.001723  3.63072 0.000283\n",
      "ar1     0.000000          NA       NA       NA\n",
      "ar2     0.000000          NA       NA       NA\n",
      "ar3     0.000000          NA       NA       NA\n",
      "ar4     0.000000          NA       NA       NA\n",
      "ar5     0.114629    0.033005  3.47307 0.000515\n",
      "ar6    -0.129269    0.031139 -4.15140 0.000033\n",
      "ar7     0.078756    0.027615  2.85191 0.004346\n",
      "ar8    -0.011031    0.029033 -0.37994 0.703987\n",
      "ar9     0.045569    0.030248  1.50649 0.131940\n",
      "omega   0.001226    0.000121 10.12574 0.000000\n",
      "alpha1  0.000000          NA       NA       NA\n",
      "alpha2  0.265654    0.056266  4.72138 0.000002\n",
      "alpha3  0.446243    0.076769  5.81280 0.000000\n",
      "\n",
      "Robust Standard Errors:\n",
      "        Estimate  Std. Error  t value Pr(>|t|)\n",
      "mu      0.006255    0.001811  3.45314 0.000554\n",
      "ar1     0.000000          NA       NA       NA\n",
      "ar2     0.000000          NA       NA       NA\n",
      "ar3     0.000000          NA       NA       NA\n",
      "ar4     0.000000          NA       NA       NA\n",
      "ar5     0.114629    0.050551  2.26757 0.023355\n",
      "ar6    -0.129269    0.050103 -2.58007 0.009878\n",
      "ar7     0.078756    0.045215  1.74180 0.081544\n",
      "ar8    -0.011031    0.041984 -0.26274 0.792749\n",
      "ar9     0.045569    0.040026  1.13848 0.254919\n",
      "omega   0.001226    0.000142  8.64573 0.000000\n",
      "alpha1  0.000000          NA       NA       NA\n",
      "alpha2  0.265654    0.097771  2.71712 0.006585\n",
      "alpha3  0.446243    0.116788  3.82097 0.000133\n",
      "\n",
      "LogLikelihood : 1244.19 \n",
      "\n",
      "Information Criteria\n",
      "------------------------------------\n",
      "                    \n",
      "Akaike       -3.1192\n",
      "Bayes        -3.0660\n",
      "Shibata      -3.1194\n",
      "Hannan-Quinn -3.0988\n",
      "\n",
      "Weighted Ljung-Box Test on Standardized Residuals\n",
      "------------------------------------\n",
      "                         statistic  p-value\n",
      "Lag[1]                     0.04428 0.833340\n",
      "Lag[2*(p+q)+(p+q)-1][26]  20.92956 0.000000\n",
      "Lag[4*(p+q)+(p+q)-1][44]  33.28446 0.003136\n",
      "d.o.f=9\n",
      "H0 : No serial correlation\n",
      "\n",
      "Weighted Ljung-Box Test on Standardized Squared Residuals\n",
      "------------------------------------\n",
      "                         statistic p-value\n",
      "Lag[1]                       5.884 0.01528\n",
      "Lag[2*(p+q)+(p+q)-1][8]     10.823 0.02257\n",
      "Lag[4*(p+q)+(p+q)-1][14]    19.052 0.00346\n",
      "d.o.f=3\n",
      "\n",
      "Weighted ARCH LM Tests\n",
      "------------------------------------\n",
      "            Statistic Shape Scale P-Value\n",
      "ARCH Lag[4]    0.2226 0.500 2.000 0.63706\n",
      "ARCH Lag[6]    2.1262 1.461 1.711 0.46358\n",
      "ARCH Lag[8]    8.8697 2.368 1.583 0.04035\n",
      "\n",
      "Nyblom stability test\n",
      "------------------------------------\n",
      "Joint Statistic:  2.8178\n",
      "Individual Statistics:              \n",
      "mu     0.09325\n",
      "ar5    0.01984\n",
      "ar6    0.02487\n",
      "ar7    0.43178\n",
      "ar8    0.12044\n",
      "ar9    0.32259\n",
      "omega  0.81991\n",
      "alpha2 0.68996\n",
      "alpha3 0.87713\n",
      "\n",
      "Asymptotic Critical Values (10% 5% 1%)\n",
      "Joint Statistic:     \t 2.1 2.32 2.82\n",
      "Individual Statistic:\t 0.35 0.47 0.75\n",
      "\n",
      "Sign Bias Test\n",
      "------------------------------------\n",
      "                   t-value     prob sig\n",
      "Sign Bias           0.5766 0.564349    \n",
      "Negative Sign Bias  2.7909 0.005383 ***\n",
      "Positive Sign Bias  0.2572 0.797085    \n",
      "Joint Effect       14.4727 0.002327 ***\n",
      "\n",
      "\n",
      "Adjusted Pearson Goodness-of-Fit Test:\n",
      "------------------------------------\n",
      "  group statistic p-value(g-1)\n",
      "1    20     30.22     0.049038\n",
      "2    30     49.14     0.011171\n",
      "3    40     54.87     0.047293\n",
      "4    50     76.31     0.007512\n",
      "\n",
      "\n",
      "Elapsed time : 0.6465609 \n",
      "\n"
     ]
    }
   ],
   "source": [
    "options(warn=-1) #suppress warnings globally in an R Script\n",
    "library(rugarch)\n",
    "spec1=ugarchspec(variance.model=list(model=\"sGARCH\",garchOrder = c(3,0)),\n",
    "                 mean.model=list(armaOrder=c(9,0),include.mean = TRUE),distribution.model = \"norm\",fixed.pars = list(ar1=0,ar2=0,ar3=0,ar4=0,\n",
    "                                                                                                  alpha1=0))\n",
    "fit1=ugarchfit(data=sp5,spec=spec1)\n",
    "show(fit1)"
   ]
  },
  {
   "cell_type": "markdown",
   "metadata": {},
   "source": [
    "# Modelos GARCH"
   ]
  },
  {
   "cell_type": "code",
   "execution_count": 31,
   "metadata": {},
   "outputs": [
    {
     "data": {
      "image/png": "[encoded data removed]",
      "text/plain": [
       "plot without title"
      ]
     },
     "metadata": {},
     "output_type": "display_data"
    }
   ],
   "source": [
    "options(repr.plot.width=4, repr.plot.height=3)\n",
    "plot(sp5,type='l')"
   ]
  },
  {
   "cell_type": "code",
   "execution_count": 32,
   "metadata": {},
   "outputs": [
    {
     "data": {
      "image/png": "[encoded data removed]",
      "text/plain": [
       "Plot with title \"Series  sp5\""
      ]
     },
     "metadata": {},
     "output_type": "display_data"
    },
    {
     "data": {
      "image/png": "[encoded data removed]",
      "text/plain": [
       "Plot with title \"Series  sp5^2\""
      ]
     },
     "metadata": {},
     "output_type": "display_data"
    }
   ],
   "source": [
    "acf(sp5)\n",
    "acf(sp5^2)"
   ]
  },
  {
   "cell_type": "code",
   "execution_count": 34,
   "metadata": {},
   "outputs": [
    {
     "name": "stdout",
     "output_type": "stream",
     "text": [
      "ARCH heteroscedasticity test for residuals \n",
      "alternative: heteroscedastic \n",
      "\n",
      "Portmanteau-Q test: \n",
      "     order  PQ p.value\n",
      "[1,]     4 123       0\n",
      "[2,]     8 237       0\n",
      "[3,]    12 420       0\n",
      "[4,]    16 462       0\n",
      "[5,]    20 506       0\n",
      "[6,]    24 535       0\n",
      "Lagrange-Multiplier test: \n",
      "     order    LM  p.value\n",
      "[1,]     4 794.1 0.00e+00\n",
      "[2,]     8 348.2 0.00e+00\n",
      "[3,]    12 132.6 0.00e+00\n",
      "[4,]    16  98.0 3.10e-14\n",
      "[5,]    20  70.1 8.72e-08\n",
      "[6,]    24  51.5 5.78e-04\n"
     ]
    },
    {
     "data": {
      "image/png": "[encoded data removed]",
      "text/plain": [
       "plot without title"
      ]
     },
     "metadata": {},
     "output_type": "display_data"
    }
   ],
   "source": [
    "modeloarima=arima(sp5,order = c(3,0,0),include.mean = TRUE)\n",
    "options(repr.plot.width=6, repr.plot.height=5)\n",
    "arch.test(modeloarima)"
   ]
  },
  {
   "cell_type": "code",
   "execution_count": 36,
   "metadata": {},
   "outputs": [
    {
     "data": {
      "image/png": "[encoded data removed]",
      "text/plain": [
       "Plot with title \"Series  modeloarima$residual\""
      ]
     },
     "metadata": {},
     "output_type": "display_data"
    }
   ],
   "source": [
    "options(repr.plot.width=4, repr.plot.height=3)\n",
    "acf(modeloarima$residual)"
   ]
  },
  {
   "cell_type": "code",
   "execution_count": 37,
   "metadata": {},
   "outputs": [
    {
     "data": {
      "image/png": "[encoded data removed]",
      "text/plain": [
       "Plot with title \"Series  modeloarima$residual^2\""
      ]
     },
     "metadata": {},
     "output_type": "display_data"
    },
    {
     "data": {
      "image/png": "[encoded data removed]",
      "text/plain": [
       "Plot with title \"Series  modeloarima$residual^2\""
      ]
     },
     "metadata": {},
     "output_type": "display_data"
    }
   ],
   "source": [
    "acf(modeloarima$residual^2)\n",
    "pacf(modeloarima$residual^2)"
   ]
  },
  {
   "cell_type": "code",
   "execution_count": 38,
   "metadata": {},
   "outputs": [
    {
     "name": "stdout",
     "output_type": "stream",
     "text": [
      "\n",
      "Title:\n",
      " GARCH Modelling \n",
      "\n",
      "Call:\n",
      " garchFit(formula = ~arma(3, 0) + garch(3, 0), data = sp5, trace = F) \n",
      "\n",
      "Mean and Variance Equation:\n",
      " data ~ arma(3, 0) + garch(3, 0)\n",
      "<environment: 0x000000000f5935e8>\n",
      " [data = sp5]\n",
      "\n",
      "Conditional Distribution:\n",
      " norm \n",
      "\n",
      "Coefficient(s):\n",
      "         mu          ar1          ar2          ar3        omega       alpha1  \n",
      " 0.00730994  -0.00014379  -0.02426410  -0.00299617   0.00138352   0.09536209  \n",
      "     alpha2       alpha3  \n",
      " 0.20305803   0.29206912  \n",
      "\n",
      "Std. Errors:\n",
      " based on Hessian \n",
      "\n",
      "Error Analysis:\n",
      "         Estimate  Std. Error  t value Pr(>|t|)    \n",
      "mu      0.0073099   0.0018108    4.037 5.41e-05 ***\n",
      "ar1    -0.0001438   0.0381864   -0.004   0.9970    \n",
      "ar2    -0.0242641   0.0418547   -0.580   0.5621    \n",
      "ar3    -0.0029962   0.0378121   -0.079   0.9368    \n",
      "omega   0.0013835   0.0001290   10.729  < 2e-16 ***\n",
      "alpha1  0.0953621   0.0375827    2.537   0.0112 *  \n",
      "alpha2  0.2030580   0.0470303    4.318 1.58e-05 ***\n",
      "alpha3  0.2920691   0.0684937    4.264 2.01e-05 ***\n",
      "---\n",
      "Signif. codes:  0 '***' 0.001 '**' 0.01 '*' 0.05 '.' 0.1 ' ' 1\n",
      "\n",
      "Log Likelihood:\n",
      " 1236.724    normalized:  1.561521 \n",
      "\n",
      "Description:\n",
      " Thu Jul 04 23:56:23 2019 by user: FM \n",
      "\n",
      "\n",
      "Standardised Residuals Tests:\n",
      "                                Statistic p-Value     \n",
      " Jarque-Bera Test   R    Chi^2  619.8186  0           \n",
      " Shapiro-Wilk Test  R    W      0.959508  5.583524e-14\n",
      " Ljung-Box Test     R    Q(10)  12.30054  0.2654461   \n",
      " Ljung-Box Test     R    Q(15)  18.42682  0.2408915   \n",
      " Ljung-Box Test     R    Q(20)  27.26304  0.1280245   \n",
      " Ljung-Box Test     R^2  Q(10)  11.24865  0.3384767   \n",
      " Ljung-Box Test     R^2  Q(15)  20.61518  0.1495814   \n",
      " Ljung-Box Test     R^2  Q(20)  26.47376  0.150729    \n",
      " LM Arch Test       R    TR^2   19.1042   0.08604475  \n",
      "\n",
      "Information Criterion Statistics:\n",
      "      AIC       BIC       SIC      HQIC \n",
      "-3.102839 -3.055621 -3.103041 -3.084692 \n",
      "\n"
     ]
    }
   ],
   "source": [
    "modelosp5=garchFit(~arma(3,0)+garch(3,0),data=sp5,trace=F)\n",
    "summary(modelosp5) ####Se puede verificar que el modelo para la parte autoregresiva no es significativa, adicional\n",
    "                   ####a que la distribuci?n de los errores parece ser no normal"
   ]
  },
  {
   "cell_type": "code",
   "execution_count": 39,
   "metadata": {},
   "outputs": [
    {
     "name": "stdout",
     "output_type": "stream",
     "text": [
      "\n",
      "Title:\n",
      " GARCH Modelling \n",
      "\n",
      "Call:\n",
      " garchFit(formula = ~arma(0, 0) + garch(3, 0), data = sp5, trace = F) \n",
      "\n",
      "Mean and Variance Equation:\n",
      " data ~ arma(0, 0) + garch(3, 0)\n",
      "<environment: 0x0000000034f64a98>\n",
      " [data = sp5]\n",
      "\n",
      "Conditional Distribution:\n",
      " norm \n",
      "\n",
      "Coefficient(s):\n",
      "       mu      omega     alpha1     alpha2     alpha3  \n",
      "0.0068361  0.0013956  0.0953065  0.2041645  0.2860775  \n",
      "\n",
      "Std. Errors:\n",
      " based on Hessian \n",
      "\n",
      "Error Analysis:\n",
      "        Estimate  Std. Error  t value Pr(>|t|)    \n",
      "mu     0.0068361   0.0016692    4.096 4.21e-05 ***\n",
      "omega  0.0013956   0.0001287   10.845  < 2e-16 ***\n",
      "alpha1 0.0953065   0.0373768    2.550   0.0108 *  \n",
      "alpha2 0.2041645   0.0473743    4.310 1.64e-05 ***\n",
      "alpha3 0.2860775   0.0666554    4.292 1.77e-05 ***\n",
      "---\n",
      "Signif. codes:  0 '***' 0.001 '**' 0.01 '*' 0.05 '.' 0.1 ' ' 1\n",
      "\n",
      "Log Likelihood:\n",
      " 1234.774    normalized:  1.559059 \n",
      "\n",
      "Description:\n",
      " Thu Jul 04 23:56:28 2019 by user: FM \n",
      "\n",
      "\n",
      "Standardised Residuals Tests:\n",
      "                                Statistic p-Value     \n",
      " Jarque-Bera Test   R    Chi^2  623.4484  0           \n",
      " Shapiro-Wilk Test  R    W      0.9593333 5.154968e-14\n",
      " Ljung-Box Test     R    Q(10)  11.70702  0.305143    \n",
      " Ljung-Box Test     R    Q(15)  18.14553  0.255092    \n",
      " Ljung-Box Test     R    Q(20)  26.51703  0.1494069   \n",
      " Ljung-Box Test     R^2  Q(10)  10.93505  0.362601    \n",
      " Ljung-Box Test     R^2  Q(15)  20.58724  0.1505435   \n",
      " Ljung-Box Test     R^2  Q(20)  26.10154  0.1624843   \n",
      " LM Arch Test       R    TR^2   19.11011  0.08590572  \n",
      "\n",
      "Information Criterion Statistics:\n",
      "      AIC       BIC       SIC      HQIC \n",
      "-3.105491 -3.075980 -3.105570 -3.094149 \n",
      "\n"
     ]
    }
   ],
   "source": [
    "modelosp5_1=garchFit(~arma(0,0)+garch(3,0),data=sp5,trace=F)\n",
    "summary(modelosp5_1)"
   ]
  },
  {
   "cell_type": "code",
   "execution_count": 40,
   "metadata": {},
   "outputs": [
    {
     "name": "stdout",
     "output_type": "stream",
     "text": [
      "\n",
      "Title:\n",
      " GARCH Modelling \n",
      "\n",
      "Call:\n",
      " garchFit(formula = ~arma(0, 0) + garch(9, 0), data = sp5, trace = F) \n",
      "\n",
      "Mean and Variance Equation:\n",
      " data ~ arma(0, 0) + garch(9, 0)\n",
      "<environment: 0x00000000096a9ab8>\n",
      " [data = sp5]\n",
      "\n",
      "Conditional Distribution:\n",
      " norm \n",
      "\n",
      "Coefficient(s):\n",
      "        mu       omega      alpha1      alpha2      alpha3      alpha4  \n",
      "0.00747163  0.00062594  0.08478739  0.07522581  0.19552126  0.08265892  \n",
      "    alpha5      alpha6      alpha7      alpha8      alpha9  \n",
      "0.02798782  0.08541249  0.01461631  0.10498026  0.14089514  \n",
      "\n",
      "Std. Errors:\n",
      " based on Hessian \n",
      "\n",
      "Error Analysis:\n",
      "        Estimate  Std. Error  t value Pr(>|t|)    \n",
      "mu     0.0074716   0.0015273    4.892 9.97e-07 ***\n",
      "omega  0.0006259   0.0001410    4.440 8.99e-06 ***\n",
      "alpha1 0.0847874   0.0407145    2.082 0.037298 *  \n",
      "alpha2 0.0752258   0.0475617    1.582 0.113730    \n",
      "alpha3 0.1955213   0.0580274    3.369 0.000753 ***\n",
      "alpha4 0.0826589   0.0521011    1.587 0.112623    \n",
      "alpha5 0.0279878   0.0437645    0.640 0.522492    \n",
      "alpha6 0.0854125   0.0504467    1.693 0.090432 .  \n",
      "alpha7 0.0146163   0.0285162    0.513 0.608258    \n",
      "alpha8 0.1049803   0.0349092    3.007 0.002636 ** \n",
      "alpha9 0.1408951   0.0455602    3.093 0.001985 ** \n",
      "---\n",
      "Signif. codes:  0 '***' 0.001 '**' 0.01 '*' 0.05 '.' 0.1 ' ' 1\n",
      "\n",
      "Log Likelihood:\n",
      " 1282.22    normalized:  1.618964 \n",
      "\n",
      "Description:\n",
      " Thu Jul 04 23:56:33 2019 by user: FM \n",
      "\n",
      "\n",
      "Standardised Residuals Tests:\n",
      "                                Statistic p-Value     \n",
      " Jarque-Bera Test   R    Chi^2  30.70406  2.151281e-07\n",
      " Shapiro-Wilk Test  R    W      0.9905164 5.524238e-05\n",
      " Ljung-Box Test     R    Q(10)  12.01708  0.2839152   \n",
      " Ljung-Box Test     R    Q(15)  19.93661  0.1743778   \n",
      " Ljung-Box Test     R    Q(20)  25.78775  0.1729368   \n",
      " Ljung-Box Test     R^2  Q(10)  2.174198  0.9948223   \n",
      " Ljung-Box Test     R^2  Q(15)  7.763248  0.9329231   \n",
      " Ljung-Box Test     R^2  Q(20)  10.9107   0.9485056   \n",
      " LM Arch Test       R    TR^2   5.658292  0.9323187   \n",
      "\n",
      "Information Criterion Statistics:\n",
      "      AIC       BIC       SIC      HQIC \n",
      "-3.210151 -3.145226 -3.210530 -3.185198 \n",
      "\n"
     ]
    }
   ],
   "source": [
    "modelosp5_2=garchFit(~arma(0,0)+garch(9,0),data=sp5,trace=F)\n",
    "summary(modelosp5_2)"
   ]
  },
  {
   "cell_type": "code",
   "execution_count": 41,
   "metadata": {},
   "outputs": [
    {
     "name": "stdout",
     "output_type": "stream",
     "text": [
      "\n",
      "Title:\n",
      " GARCH Modelling \n",
      "\n",
      "Call:\n",
      " garchFit(formula = ~arma(0, 0) + garch(9, 0), data = sp5, cond.dist = \"std\", \n",
      "    trace = F) \n",
      "\n",
      "Mean and Variance Equation:\n",
      " data ~ arma(0, 0) + garch(9, 0)\n",
      "<environment: 0x00000000073818e8>\n",
      " [data = sp5]\n",
      "\n",
      "Conditional Distribution:\n",
      " std \n",
      "\n",
      "Coefficient(s):\n",
      "        mu       omega      alpha1      alpha2      alpha3      alpha4  \n",
      "0.00826424  0.00077578  0.10031598  0.06241962  0.19178188  0.03574679  \n",
      "    alpha5      alpha6      alpha7      alpha8      alpha9       shape  \n",
      "0.03209774  0.09571942  0.00045413  0.08965974  0.12656763  8.34407754  \n",
      "\n",
      "Std. Errors:\n",
      " based on Hessian \n",
      "\n",
      "Error Analysis:\n",
      "        Estimate  Std. Error  t value Pr(>|t|)    \n",
      "mu     0.0082642   0.0015197    5.438 5.39e-08 ***\n",
      "omega  0.0007758   0.0001693    4.581 4.63e-06 ***\n",
      "alpha1 0.1003160   0.0482856    2.078 0.037751 *  \n",
      "alpha2 0.0624196   0.0477649    1.307 0.191278    \n",
      "alpha3 0.1917819   0.0661088    2.901 0.003720 ** \n",
      "alpha4 0.0357468   0.0569703    0.627 0.530355    \n",
      "alpha5 0.0320977   0.0440223    0.729 0.465926    \n",
      "alpha6 0.0957194   0.0604900    1.582 0.113558    \n",
      "alpha7 0.0004541   0.0367014    0.012 0.990128    \n",
      "alpha8 0.0896597   0.0413632    2.168 0.030187 *  \n",
      "alpha9 0.1265676   0.0529652    2.390 0.016865 *  \n",
      "shape  8.3440775   2.4024979    3.473 0.000515 ***\n",
      "---\n",
      "Signif. codes:  0 '***' 0.001 '**' 0.01 '*' 0.05 '.' 0.1 ' ' 1\n",
      "\n",
      "Log Likelihood:\n",
      " 1290.283    normalized:  1.629145 \n",
      "\n",
      "Description:\n",
      " Thu Jul 04 23:56:39 2019 by user: FM \n",
      "\n",
      "\n",
      "Standardised Residuals Tests:\n",
      "                                Statistic p-Value     \n",
      " Jarque-Bera Test   R    Chi^2  45.12259  1.591309e-10\n",
      " Shapiro-Wilk Test  R    W      0.9885914 7.816834e-06\n",
      " Ljung-Box Test     R    Q(10)  12.3733   0.2608496   \n",
      " Ljung-Box Test     R    Q(15)  20.5502   0.1518266   \n",
      " Ljung-Box Test     R    Q(20)  26.87011  0.1389581   \n",
      " Ljung-Box Test     R^2  Q(10)  3.950768  0.9495406   \n",
      " Ljung-Box Test     R^2  Q(15)  10.23736  0.8045499   \n",
      " Ljung-Box Test     R^2  Q(20)  14.39415  0.8099628   \n",
      " LM Arch Test       R    TR^2   8.387902  0.7541302   \n",
      "\n",
      "Information Criterion Statistics:\n",
      "      AIC       BIC       SIC      HQIC \n",
      "-3.227987 -3.157161 -3.228438 -3.200766 \n",
      "\n"
     ]
    }
   ],
   "source": [
    "modelosp5_2=garchFit(~arma(0,0)+garch(9,0),data=sp5,trace=F,cond.dist ='std')\n",
    "summary(modelosp5_2)"
   ]
  },
  {
   "cell_type": "markdown",
   "metadata": {},
   "source": [
    "# Simulación\n",
    "\n",
    "## GARCH(1,1)"
   ]
  },
  {
   "cell_type": "code",
   "execution_count": 43,
   "metadata": {},
   "outputs": [
    {
     "data": {
      "image/png": "[encoded data removed]",
      "text/plain": [
       "plot without title"
      ]
     },
     "metadata": {},
     "output_type": "display_data"
    }
   ],
   "source": [
    "spec = garchSpec(model = list(omega=1.5,alpha = c(0.6), beta = c(0.3)))\n",
    "GARCH11=garchSim(spec, n = 500)\n",
    "plot(GARCH11)"
   ]
  },
  {
   "cell_type": "code",
   "execution_count": 44,
   "metadata": {},
   "outputs": [
    {
     "data": {
      "image/png": "[encoded data removed]",
      "text/plain": [
       "Plot with title \"Series  GARCH11\""
      ]
     },
     "metadata": {},
     "output_type": "display_data"
    },
    {
     "data": {
      "image/png": "[encoded data removed]",
      "text/plain": [
       "Plot with title \"Series  GARCH11^2\""
      ]
     },
     "metadata": {},
     "output_type": "display_data"
    }
   ],
   "source": [
    "acf(GARCH11)\n",
    "acf(GARCH11^2)"
   ]
  },
  {
   "cell_type": "code",
   "execution_count": 45,
   "metadata": {},
   "outputs": [
    {
     "data": {
      "image/png": "[encoded data removed]",
      "text/plain": [
       "Plot with title \"Normal Q-Q Plot\""
      ]
     },
     "metadata": {},
     "output_type": "display_data"
    },
    {
     "data": {
      "image/png": "[encoded data removed]",
      "text/plain": [
       "Plot with title \"Histogram of GARCH11\""
      ]
     },
     "metadata": {},
     "output_type": "display_data"
    }
   ],
   "source": [
    "qqnorm(GARCH11)\n",
    "qqline(GARCH11, col = 2,lwd=2,lty=2)\n",
    "hist(GARCH11)"
   ]
  },
  {
   "cell_type": "code",
   "execution_count": 46,
   "metadata": {},
   "outputs": [
    {
     "name": "stdout",
     "output_type": "stream",
     "text": [
      "\n",
      "Title:\n",
      " GARCH Modelling \n",
      "\n",
      "Call:\n",
      " garchFit(formula = garch ~ garch(1, 1), data = GARCH11, include.mean = FALSE, \n",
      "    trace = F) \n",
      "\n",
      "Mean and Variance Equation:\n",
      " data ~ garch(1, 1)\n",
      "<environment: 0x0000000006c50938>\n",
      " [data = GARCH11]\n",
      "\n",
      "Conditional Distribution:\n",
      " norm \n",
      "\n",
      "Coefficient(s):\n",
      "  omega   alpha1    beta1  \n",
      "1.41482  0.57428  0.33097  \n",
      "\n",
      "Std. Errors:\n",
      " based on Hessian \n",
      "\n",
      "Error Analysis:\n",
      "        Estimate  Std. Error  t value Pr(>|t|)    \n",
      "omega    1.41482     0.29061    4.868 1.13e-06 ***\n",
      "alpha1   0.57428     0.08814    6.516 7.23e-11 ***\n",
      "beta1    0.33097     0.05776    5.730 1.00e-08 ***\n",
      "---\n",
      "Signif. codes:  0 '***' 0.001 '**' 0.01 '*' 0.05 '.' 0.1 ' ' 1\n",
      "\n",
      "Log Likelihood:\n",
      " -1190.812    normalized:  -2.381624 \n",
      "\n",
      "Description:\n",
      " Thu Jul 04 23:57:16 2019 by user: FM \n",
      "\n",
      "\n",
      "Standardised Residuals Tests:\n",
      "                                Statistic p-Value  \n",
      " Jarque-Bera Test   R    Chi^2  3.88263   0.1435151\n",
      " Shapiro-Wilk Test  R    W      0.9953514 0.141249 \n",
      " Ljung-Box Test     R    Q(10)  6.348351  0.7851966\n",
      " Ljung-Box Test     R    Q(15)  8.006539  0.9235203\n",
      " Ljung-Box Test     R    Q(20)  9.691992  0.9734193\n",
      " Ljung-Box Test     R^2  Q(10)  4.839716  0.9016246\n",
      " Ljung-Box Test     R^2  Q(15)  6.895238  0.9604918\n",
      " Ljung-Box Test     R^2  Q(20)  8.511003  0.9879103\n",
      " LM Arch Test       R    TR^2   6.621895  0.8815563\n",
      "\n",
      "Information Criterion Statistics:\n",
      "     AIC      BIC      SIC     HQIC \n",
      "4.775247 4.800535 4.775176 4.785170 \n",
      "\n"
     ]
    }
   ],
   "source": [
    "estimacion=garchFit(garch~garch(1,1),data=GARCH11,trace=F,include.mean=FALSE)\n",
    "summary(estimacion)\n",
    "#plot(estimacion) #Error in menu(...): menu() cannot be used non-interactively"
   ]
  },
  {
   "cell_type": "code",
   "execution_count": 47,
   "metadata": {},
   "outputs": [
    {
     "data": {
      "image/png": "[encoded data removed]",
      "text/plain": [
       "plot without title"
      ]
     },
     "metadata": {},
     "output_type": "display_data"
    }
   ],
   "source": [
    "prediccion=predict(estimacion,n.ahead=10)\n",
    "options(repr.plot.width=6, repr.plot.height=5)\n",
    "plot(prediccion)"
   ]
  },
  {
   "cell_type": "markdown",
   "metadata": {},
   "source": [
    "## Aplicación con datos reales\n",
    "\n",
    "Retornar al conjunto de datos original SP5"
   ]
  },
  {
   "cell_type": "code",
   "execution_count": 48,
   "metadata": {},
   "outputs": [
    {
     "name": "stdout",
     "output_type": "stream",
     "text": [
      "\n",
      "Title:\n",
      " GARCH Modelling \n",
      "\n",
      "Call:\n",
      " garchFit(formula = ~arma(0, 0) + garch(1, 1), data = sp5, trace = F) \n",
      "\n",
      "Mean and Variance Equation:\n",
      " data ~ arma(0, 0) + garch(1, 1)\n",
      "<environment: 0x000000000a351460>\n",
      " [data = sp5]\n",
      "\n",
      "Conditional Distribution:\n",
      " norm \n",
      "\n",
      "Coefficient(s):\n",
      "        mu       omega      alpha1       beta1  \n",
      "7.4497e-03  8.0615e-05  1.2198e-01  8.5436e-01  \n",
      "\n",
      "Std. Errors:\n",
      " based on Hessian \n",
      "\n",
      "Error Analysis:\n",
      "        Estimate  Std. Error  t value Pr(>|t|)    \n",
      "mu     7.450e-03   1.538e-03    4.845 1.27e-06 ***\n",
      "omega  8.061e-05   2.833e-05    2.845  0.00444 ** \n",
      "alpha1 1.220e-01   2.202e-02    5.540 3.02e-08 ***\n",
      "beta1  8.544e-01   2.175e-02   39.276  < 2e-16 ***\n",
      "---\n",
      "Signif. codes:  0 '***' 0.001 '**' 0.01 '*' 0.05 '.' 0.1 ' ' 1\n",
      "\n",
      "Log Likelihood:\n",
      " 1269.455    normalized:  1.602848 \n",
      "\n",
      "Description:\n",
      " Thu Jul 04 23:57:25 2019 by user: FM \n",
      "\n",
      "\n",
      "Standardised Residuals Tests:\n",
      "                                Statistic p-Value     \n",
      " Jarque-Bera Test   R    Chi^2  80.32111  0           \n",
      " Shapiro-Wilk Test  R    W      0.98505   3.136885e-07\n",
      " Ljung-Box Test     R    Q(10)  11.2205   0.340599    \n",
      " Ljung-Box Test     R    Q(15)  17.99703  0.262822    \n",
      " Ljung-Box Test     R    Q(20)  24.29896  0.2295768   \n",
      " Ljung-Box Test     R^2  Q(10)  9.920157  0.4475259   \n",
      " Ljung-Box Test     R^2  Q(15)  14.21124  0.509572    \n",
      " Ljung-Box Test     R^2  Q(20)  16.75081  0.6690903   \n",
      " LM Arch Test       R    TR^2   13.04872  0.3655092   \n",
      "\n",
      "Information Criterion Statistics:\n",
      "      AIC       BIC       SIC      HQIC \n",
      "-3.195594 -3.171985 -3.195645 -3.186520 \n",
      "\n"
     ]
    }
   ],
   "source": [
    "modelosp5_3=garchFit(~arma(0,0)+garch(1,1),data=sp5,trace=F)\n",
    "summary(modelosp5_3)"
   ]
  },
  {
   "cell_type": "code",
   "execution_count": 49,
   "metadata": {},
   "outputs": [
    {
     "name": "stdout",
     "output_type": "stream",
     "text": [
      "\n",
      "Title:\n",
      " GARCH Modelling \n",
      "\n",
      "Call:\n",
      " garchFit(formula = ~arma(0, 0) + garch(1, 1), data = sp5, cond.dist = \"std\", \n",
      "    trace = F) \n",
      "\n",
      "Mean and Variance Equation:\n",
      " data ~ arma(0, 0) + garch(1, 1)\n",
      "<environment: 0x000000000855aac8>\n",
      " [data = sp5]\n",
      "\n",
      "Conditional Distribution:\n",
      " std \n",
      "\n",
      "Coefficient(s):\n",
      "        mu       omega      alpha1       beta1       shape  \n",
      "0.00845504  0.00012485  0.11302583  0.84220210  7.00318056  \n",
      "\n",
      "Std. Errors:\n",
      " based on Hessian \n",
      "\n",
      "Error Analysis:\n",
      "        Estimate  Std. Error  t value Pr(>|t|)    \n",
      "mu     8.455e-03   1.515e-03    5.581 2.39e-08 ***\n",
      "omega  1.248e-04   4.519e-05    2.763  0.00573 ** \n",
      "alpha1 1.130e-01   2.693e-02    4.198 2.70e-05 ***\n",
      "beta1  8.422e-01   3.186e-02   26.432  < 2e-16 ***\n",
      "shape  7.003e+00   1.680e+00    4.169 3.06e-05 ***\n",
      "---\n",
      "Signif. codes:  0 '***' 0.001 '**' 0.01 '*' 0.05 '.' 0.1 ' ' 1\n",
      "\n",
      "Log Likelihood:\n",
      " 1283.417    normalized:  1.620476 \n",
      "\n",
      "Description:\n",
      " Thu Jul 04 23:57:30 2019 by user: FM \n",
      "\n",
      "\n",
      "Standardised Residuals Tests:\n",
      "                                Statistic p-Value     \n",
      " Jarque-Bera Test   R    Chi^2  99.61249  0           \n",
      " Shapiro-Wilk Test  R    W      0.9836345 9.728019e-08\n",
      " Ljung-Box Test     R    Q(10)  11.37961  0.3287173   \n",
      " Ljung-Box Test     R    Q(15)  18.2163   0.2514649   \n",
      " Ljung-Box Test     R    Q(20)  24.91842  0.2045699   \n",
      " Ljung-Box Test     R^2  Q(10)  10.52266  0.3958941   \n",
      " Ljung-Box Test     R^2  Q(15)  16.14586  0.3724248   \n",
      " Ljung-Box Test     R^2  Q(20)  18.93325  0.5261685   \n",
      " LM Arch Test       R    TR^2   14.88667  0.247693    \n",
      "\n",
      "Information Criterion Statistics:\n",
      "      AIC       BIC       SIC      HQIC \n",
      "-3.228325 -3.198814 -3.228404 -3.216983 \n",
      "\n"
     ]
    }
   ],
   "source": [
    "modelosp5_4=garchFit(~arma(0,0)+garch(1,1),data=sp5,trace=F,cond.dist = 'std')\n",
    "summary(modelosp5_4)"
   ]
  }
 ],
 "metadata": {
  "kernelspec": {
   "display_name": "R",
   "language": "R",
   "name": "ir"
  },
  "language_info": {
   "codemirror_mode": "r",
   "file_extension": ".r",
   "mimetype": "text/x-r-source",
   "name": "R",
   "pygments_lexer": "r",
   "version": "3.6.0"
  }
 },
 "nbformat": 4,
 "nbformat_minor": 2
}
